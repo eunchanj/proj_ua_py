{
 "cells": [
  {
   "cell_type": "code",
   "execution_count": 1,
   "metadata": {},
   "outputs": [
    {
     "name": "stdout",
     "output_type": "stream",
     "text": [
      "python version\n",
      "3.8.5 (default, Sep  4 2020, 07:30:14) \n",
      "[GCC 7.3.0]\n",
      "sklearn version =  0.23.2\n",
      "numpy version =  1.19.2\n",
      "pandas version = 1.2.3\n"
     ]
    }
   ],
   "source": [
    "SEED = 0\n",
    "cores = 16\n",
    "\n",
    "from numpy.random import seed\n",
    "seed(SEED)\n",
    "import numpy as np\n",
    "import pandas as pd\n",
    "\n",
    "from sklearn.model_selection import train_test_split\n",
    "from sklearn.preprocessing import StandardScaler\n",
    "from sklearn.metrics import roc_curve\n",
    "from collections import Counter\n",
    "from sklearn.datasets import make_classification\n",
    "from xgboost import XGBClassifier\n",
    "from sklearn.model_selection import RepeatedStratifiedKFold\n",
    "from sklearn.model_selection import cross_val_score\n",
    "from numpy import mean\n",
    "from numpy import std\n",
    "from xgboost import plot_importance\n",
    "from matplotlib import pyplot as plt\n",
    "from numpy import sqrt\n",
    "from numpy import argmax\n",
    "from sklearn.metrics import classification_report\n",
    "import shap\n",
    "from sklearn.metrics import roc_auc_score\n",
    "import sklearn.metrics as metrics\n",
    "from sklearn.metrics import plot_roc_curve\n",
    "from sklearn.metrics import precision_recall_curve\n",
    "from sklearn.calibration import CalibratedClassifierCV\n",
    "from sklearn.calibration import calibration_curve\n",
    "from sklearn.preprocessing import KBinsDiscretizer\n",
    "from sklearn.metrics import confusion_matrix\n",
    "from sklearn.utils import resample\n",
    "import joblib\n",
    "\n",
    "# version check\n",
    "import sys\n",
    "print(\"python version\")\n",
    "print(sys.version)\n",
    "import sklearn\n",
    "print(\"sklearn version = \", sklearn.__version__)\n",
    "print(\"numpy version = \", np.__version__)\n",
    "print(\"pandas version =\", pd.__version__)"
   ]
  },
  {
   "cell_type": "code",
   "execution_count": 2,
   "metadata": {},
   "outputs": [],
   "source": [
    "df = pd.read_csv(\"~/proj_ua/data/ua_full_10types_new.v7.csv\", dtype={'id':str})\n",
    "df2 = df[(df['from']==\"cha\") & (df['age']>=18) & (df['age']<=90)]"
   ]
  },
  {
   "cell_type": "code",
   "execution_count": 7,
   "metadata": {},
   "outputs": [
    {
     "name": "stdout",
     "output_type": "stream",
     "text": [
      "edges :  [18.         54.6101338  71.74915129 90.        ]\n",
      "age0_edge: 54.61013380069844 \n",
      "age1_edge: 71.74915128966371 \n",
      "age2_edge: 90.0\n",
      "age group:\n",
      " 0    2121\n",
      "1    5299\n",
      "2    6334\n",
      "Name: level, dtype: int64\n"
     ]
    }
   ],
   "source": [
    "#3group age split  \n",
    "\n",
    "##step 1 finding edge value\n",
    "abnormal_disc = df2.query('eGFR_ab==1').loc[:,'age']\n",
    "abnormal_disc = pd.DataFrame(abnormal_disc)\n",
    "\n",
    "est = KBinsDiscretizer(n_bins=3, encode='ordinal', strategy='kmeans')\n",
    "est.fit(abnormal_disc)\n",
    "\n",
    "ab_disc = est.transform(abnormal_disc).astype('float')\n",
    "print(\"edges : \", est.bin_edges_[0])\n",
    "\n",
    "age0_edge = est.bin_edges_[0][1]\n",
    "age1_edge = est.bin_edges_[0][2]\n",
    "age2_edge = est.bin_edges_[0][3]\n",
    "print('age0_edge:', age0_edge, '\\nage1_edge:', age1_edge, '\\nage2_edge:', age2_edge)\n",
    "\n",
    "abnormal_disc['level'] = abnormal_disc.apply(lambda x : 0 if x['age']<age0_edge else 1 if x['age']<age1_edge else 2, axis=1)\n",
    "print('age group:\\n',abnormal_disc['level'].value_counts().sort_index())"
   ]
  },
  {
   "cell_type": "code",
   "execution_count": 8,
   "metadata": {},
   "outputs": [
    {
     "name": "stdout",
     "output_type": "stream",
     "text": [
      "0    147679\n",
      "1     46208\n",
      "2     16975\n",
      "Name: level, dtype: int64\n"
     ]
    }
   ],
   "source": [
    "##make 3group by age\n",
    "df3 = df2.copy()\n",
    "\n",
    "#age0_edge, age1_edge = 45, 65\n",
    "##age cut set up\n",
    "df3['level'] = df3.apply(lambda x : 0 if x['age']<age0_edge else 1 if x['age']<age1_edge else 2, axis=1)\n",
    "print(df3['level'].value_counts())"
   ]
  },
  {
   "cell_type": "code",
   "execution_count": 9,
   "metadata": {},
   "outputs": [
    {
     "name": "stdout",
     "output_type": "stream",
     "text": [
      "\n",
      "age0 18 54\n",
      "total cases = 147679\n",
      "total abnormal function of kidney = 2121 \n",
      "prevalence = 1.4362231596909514\n",
      "train0 : 1697 test0 : 424\n",
      "\n",
      "age1 55 71\n",
      "total cases = 46208\n",
      "total abnormal function of kidney = 5299 \n",
      "prevalence = 11.467711218836566\n",
      "train1 : 4239 test0 : 1060\n",
      "\n",
      "age2 72 90\n",
      "total cases = 16975\n",
      "total abnormal function of kidney = 6334 \n",
      "prevalence = 37.31369661266569\n",
      "train2 : 5067 test2 : 1267\n"
     ]
    }
   ],
   "source": [
    "##age0 group\n",
    "X_age0 = df3[df3['level']==0]\n",
    "y_age0 = X_age0['eGFR_ab'].astype(\"int64\")\n",
    "\n",
    "print('\\nage0', X_age0['age'].min(), X_age0['age'].max())\n",
    "print(\"total cases = %d\" %X_age0.shape[0])\n",
    "print(\"total abnormal function of kidney = %d\" %sum(y_age0), \"\\nprevalence =\", sum(y_age0)/len(y_age0)*100)\n",
    "\n",
    "X_train0, X_test0, y_train0, y_test0 = train_test_split(X_age0, y_age0, test_size=0.2, stratify=y_age0, random_state=SEED)\n",
    "print(\"train0 : %d\" % sum(y_train0), \"test0 : %d\" % sum(y_test0))\n",
    "\n",
    "##age1 group\n",
    "X_age1 = df3[df3['level']==1]\n",
    "y_age1 = X_age1['eGFR_ab']\n",
    "\n",
    "print('\\nage1', X_age1['age'].min(), X_age1['age'].max())\n",
    "print(\"total cases = %d\" %X_age1.shape[0])\n",
    "print(\"total abnormal function of kidney = %d\" %sum(y_age1), \"\\nprevalence =\", sum(y_age1)/len(y_age1)*100)\n",
    "\n",
    "X_train1, X_test1, y_train1, y_test1 = train_test_split(X_age1, y_age1, test_size=0.2, stratify=y_age1, random_state=SEED)\n",
    "print(\"train1 : %d\" % sum(y_train1), \"test0 : %d\" % sum(y_test1))\n",
    "\n",
    "##age2 group\n",
    "X_age2 = df3[df3['level']==2]\n",
    "y_age2 = X_age2['eGFR_ab']\n",
    "\n",
    "print('\\nage2', X_age2['age'].min(), X_age2['age'].max())\n",
    "print(\"total cases = %d\" %X_age2.shape[0])\n",
    "print(\"total abnormal function of kidney = %d\" %sum(y_age2), \"\\nprevalence =\", sum(y_age2)/len(y_age2)*100)\n",
    "\n",
    "X_train2, X_test2, y_train2, y_test2 = train_test_split(X_age2, y_age2, test_size=0.2, stratify=y_age2, random_state=SEED)\n",
    "print(\"train2 : %d\" % sum(y_train2), \"test2 : %d\" % sum(y_test2))"
   ]
  },
  {
   "cell_type": "code",
   "execution_count": 10,
   "metadata": {},
   "outputs": [
    {
     "name": "stdout",
     "output_type": "stream",
     "text": [
      "total cases = 210862\n",
      "total abnormal function of kidney = 13754 \n",
      "prevalence = 6.52274947596058\n"
     ]
    }
   ],
   "source": [
    "##concat both trainset and testset\n",
    "X_train = pd.concat([X_train0, X_train1, X_train2])\n",
    "y_train = pd.concat([y_train0, y_train1, y_train2])\n",
    "\n",
    "X_test = pd.concat([X_test0, X_test1, X_test2])\n",
    "y_test = pd.concat([y_test0, y_test1, y_test2])\n",
    "\n",
    "print(\"total cases = %d\" % (X_train.shape[0] + X_test.shape[0]))\n",
    "print(\"total abnormal function of kidney = %d\" % (sum(y_train) + sum(y_test)), \"\\nprevalence =\", (sum(y_train)+sum(y_test))/(len(y_train)+len(y_test))*100)"
   ]
  },
  {
   "cell_type": "code",
   "execution_count": 11,
   "metadata": {},
   "outputs": [
    {
     "name": "stdout",
     "output_type": "stream",
     "text": [
      "168689 train cases, 12 variables\n",
      "42173 test cases\n"
     ]
    }
   ],
   "source": [
    "X_train_features = X_train.loc[:, 'male':'leucocyte']\n",
    "\n",
    "print('%d train cases, %d variables' % (X_train_features.shape[0], X_train_features.shape[1]))\n",
    "print('%d test cases'%X_test.shape[0])"
   ]
  },
  {
   "cell_type": "code",
   "execution_count": 12,
   "metadata": {},
   "outputs": [
    {
     "data": {
      "text/html": [
       "<div>\n",
       "<style scoped>\n",
       "    .dataframe tbody tr th:only-of-type {\n",
       "        vertical-align: middle;\n",
       "    }\n",
       "\n",
       "    .dataframe tbody tr th {\n",
       "        vertical-align: top;\n",
       "    }\n",
       "\n",
       "    .dataframe thead th {\n",
       "        text-align: right;\n",
       "    }\n",
       "</style>\n",
       "<table border=\"1\" class=\"dataframe\">\n",
       "  <thead>\n",
       "    <tr style=\"text-align: right;\">\n",
       "      <th></th>\n",
       "      <th>male</th>\n",
       "      <th>age</th>\n",
       "      <th>he_uph</th>\n",
       "      <th>he_unitr</th>\n",
       "      <th>he_usg</th>\n",
       "      <th>he_upro</th>\n",
       "      <th>he_uglu</th>\n",
       "      <th>he_uket</th>\n",
       "      <th>he_ubil</th>\n",
       "      <th>he_ubld</th>\n",
       "      <th>he_uro</th>\n",
       "      <th>leucocyte</th>\n",
       "    </tr>\n",
       "  </thead>\n",
       "  <tbody>\n",
       "    <tr>\n",
       "      <th>count</th>\n",
       "      <td>168689.000000</td>\n",
       "      <td>1.686890e+05</td>\n",
       "      <td>1.686890e+05</td>\n",
       "      <td>168689.000000</td>\n",
       "      <td>1.686890e+05</td>\n",
       "      <td>168689.000000</td>\n",
       "      <td>168689.000000</td>\n",
       "      <td>168689.000000</td>\n",
       "      <td>168689.000000</td>\n",
       "      <td>168689.000000</td>\n",
       "      <td>168689.000000</td>\n",
       "      <td>168689.000000</td>\n",
       "    </tr>\n",
       "    <tr>\n",
       "      <th>mean</th>\n",
       "      <td>0.421658</td>\n",
       "      <td>8.626475e-17</td>\n",
       "      <td>4.892829e-16</td>\n",
       "      <td>0.019859</td>\n",
       "      <td>4.491159e-15</td>\n",
       "      <td>0.327241</td>\n",
       "      <td>0.197031</td>\n",
       "      <td>0.200938</td>\n",
       "      <td>0.036920</td>\n",
       "      <td>0.774259</td>\n",
       "      <td>0.125503</td>\n",
       "      <td>0.514604</td>\n",
       "    </tr>\n",
       "    <tr>\n",
       "      <th>std</th>\n",
       "      <td>0.493826</td>\n",
       "      <td>1.000003e+00</td>\n",
       "      <td>1.000003e+00</td>\n",
       "      <td>0.139516</td>\n",
       "      <td>1.000003e+00</td>\n",
       "      <td>0.764392</td>\n",
       "      <td>0.819329</td>\n",
       "      <td>0.666269</td>\n",
       "      <td>0.317792</td>\n",
       "      <td>1.264018</td>\n",
       "      <td>0.526113</td>\n",
       "      <td>1.024614</td>\n",
       "    </tr>\n",
       "    <tr>\n",
       "      <th>min</th>\n",
       "      <td>0.000000</td>\n",
       "      <td>-1.854108e+00</td>\n",
       "      <td>-1.468296e+00</td>\n",
       "      <td>0.000000</td>\n",
       "      <td>-1.722714e+00</td>\n",
       "      <td>0.000000</td>\n",
       "      <td>0.000000</td>\n",
       "      <td>0.000000</td>\n",
       "      <td>0.000000</td>\n",
       "      <td>0.000000</td>\n",
       "      <td>0.000000</td>\n",
       "      <td>0.000000</td>\n",
       "    </tr>\n",
       "    <tr>\n",
       "      <th>25%</th>\n",
       "      <td>0.000000</td>\n",
       "      <td>-7.562719e-01</td>\n",
       "      <td>-8.579901e-01</td>\n",
       "      <td>0.000000</td>\n",
       "      <td>-1.090873e+00</td>\n",
       "      <td>0.000000</td>\n",
       "      <td>0.000000</td>\n",
       "      <td>0.000000</td>\n",
       "      <td>0.000000</td>\n",
       "      <td>0.000000</td>\n",
       "      <td>0.000000</td>\n",
       "      <td>0.000000</td>\n",
       "    </tr>\n",
       "    <tr>\n",
       "      <th>50%</th>\n",
       "      <td>0.000000</td>\n",
       "      <td>-1.750646e-01</td>\n",
       "      <td>-2.476840e-01</td>\n",
       "      <td>0.000000</td>\n",
       "      <td>1.728108e-01</td>\n",
       "      <td>0.000000</td>\n",
       "      <td>0.000000</td>\n",
       "      <td>0.000000</td>\n",
       "      <td>0.000000</td>\n",
       "      <td>0.000000</td>\n",
       "      <td>0.000000</td>\n",
       "      <td>0.000000</td>\n",
       "    </tr>\n",
       "    <tr>\n",
       "      <th>75%</th>\n",
       "      <td>1.000000</td>\n",
       "      <td>7.290358e-01</td>\n",
       "      <td>9.729283e-01</td>\n",
       "      <td>0.000000</td>\n",
       "      <td>8.046524e-01</td>\n",
       "      <td>0.000000</td>\n",
       "      <td>0.000000</td>\n",
       "      <td>0.000000</td>\n",
       "      <td>0.000000</td>\n",
       "      <td>1.000000</td>\n",
       "      <td>0.000000</td>\n",
       "      <td>1.000000</td>\n",
       "    </tr>\n",
       "    <tr>\n",
       "      <th>max</th>\n",
       "      <td>1.000000</td>\n",
       "      <td>2.795551e+00</td>\n",
       "      <td>3.414153e+00</td>\n",
       "      <td>1.000000</td>\n",
       "      <td>1.436494e+00</td>\n",
       "      <td>5.000000</td>\n",
       "      <td>5.000000</td>\n",
       "      <td>5.000000</td>\n",
       "      <td>4.000000</td>\n",
       "      <td>5.000000</td>\n",
       "      <td>4.000000</td>\n",
       "      <td>4.000000</td>\n",
       "    </tr>\n",
       "  </tbody>\n",
       "</table>\n",
       "</div>"
      ],
      "text/plain": [
       "                male           age        he_uph       he_unitr        he_usg  \\\n",
       "count  168689.000000  1.686890e+05  1.686890e+05  168689.000000  1.686890e+05   \n",
       "mean        0.421658  8.626475e-17  4.892829e-16       0.019859  4.491159e-15   \n",
       "std         0.493826  1.000003e+00  1.000003e+00       0.139516  1.000003e+00   \n",
       "min         0.000000 -1.854108e+00 -1.468296e+00       0.000000 -1.722714e+00   \n",
       "25%         0.000000 -7.562719e-01 -8.579901e-01       0.000000 -1.090873e+00   \n",
       "50%         0.000000 -1.750646e-01 -2.476840e-01       0.000000  1.728108e-01   \n",
       "75%         1.000000  7.290358e-01  9.729283e-01       0.000000  8.046524e-01   \n",
       "max         1.000000  2.795551e+00  3.414153e+00       1.000000  1.436494e+00   \n",
       "\n",
       "             he_upro        he_uglu        he_uket        he_ubil  \\\n",
       "count  168689.000000  168689.000000  168689.000000  168689.000000   \n",
       "mean        0.327241       0.197031       0.200938       0.036920   \n",
       "std         0.764392       0.819329       0.666269       0.317792   \n",
       "min         0.000000       0.000000       0.000000       0.000000   \n",
       "25%         0.000000       0.000000       0.000000       0.000000   \n",
       "50%         0.000000       0.000000       0.000000       0.000000   \n",
       "75%         0.000000       0.000000       0.000000       0.000000   \n",
       "max         5.000000       5.000000       5.000000       4.000000   \n",
       "\n",
       "             he_ubld         he_uro      leucocyte  \n",
       "count  168689.000000  168689.000000  168689.000000  \n",
       "mean        0.774259       0.125503       0.514604  \n",
       "std         1.264018       0.526113       1.024614  \n",
       "min         0.000000       0.000000       0.000000  \n",
       "25%         0.000000       0.000000       0.000000  \n",
       "50%         0.000000       0.000000       0.000000  \n",
       "75%         1.000000       0.000000       1.000000  \n",
       "max         5.000000       4.000000       4.000000  "
      ]
     },
     "execution_count": 12,
     "metadata": {},
     "output_type": "execute_result"
    }
   ],
   "source": [
    "#standardization\n",
    "\n",
    "scaler = StandardScaler()\n",
    "std_cols=['age','he_uph','he_usg']\n",
    "std_df=X_train_features[std_cols]\n",
    "\n",
    "X_train_features[std_cols]=scaler.fit_transform(std_df)\n",
    "X_train_features.describe()"
   ]
  },
  {
   "cell_type": "code",
   "execution_count": 13,
   "metadata": {},
   "outputs": [
    {
     "data": {
      "text/plain": [
       "['/home/danssa/proj_ua/shared/scaler60.pkl']"
      ]
     },
     "execution_count": 13,
     "metadata": {},
     "output_type": "execute_result"
    }
   ],
   "source": [
    "# scalre save\n",
    "scaler = StandardScaler()\n",
    "scaler.fit(std_df)\n",
    "joblib.dump(scaler, '/home/danssa/proj_ua/shared/scaler60.pkl')"
   ]
  },
  {
   "cell_type": "code",
   "execution_count": 14,
   "metadata": {},
   "outputs": [
    {
     "name": "stdout",
     "output_type": "stream",
     "text": [
      "Mean accuracy: 0.919 (0.002)\n"
     ]
    }
   ],
   "source": [
    "#model fit and mean accuracy\n",
    "\n",
    "def evaluate_model(X, y, model):\n",
    "    cv = RepeatedStratifiedKFold(n_splits=5, n_repeats=8, random_state=SEED)\n",
    "    scores = cross_val_score(model, X, y, scoring='roc_auc', cv=cv, n_jobs=cores)\n",
    "    return scores\n",
    "\n",
    "#model : ua_cha60_10types.v5\n",
    "model = XGBClassifier(colsample_bytree=0.6, gamma=0.8, learning_rate=0.01, max_depth=3, \n",
    "                          min_child_weight=6, n_estimators=500, objective=\"binary:logistic\",\n",
    "                          reg_alpha=0.5, reg_lambda=2, scale_pos_weight=14, subsample=0.2, \n",
    "                          nthread=6, random_state=SEED).fit(X_train_features, y_train)\n",
    "scores = evaluate_model(X_train_features, y_train, model)\n",
    "print('Mean accuracy: %.3f (%.3f)' % (mean(scores), std(scores)))"
   ]
  },
  {
   "cell_type": "code",
   "execution_count": 15,
   "metadata": {},
   "outputs": [
    {
     "name": "stdout",
     "output_type": "stream",
     "text": [
      "Mean AUC of new model : 0.918 (0.002)\n"
     ]
    }
   ],
   "source": [
    "# new model \n",
    "\n",
    "## new trainset\n",
    "X_train_features_new = X_train_features.loc[:, ['male', 'he_usg', 'he_uph', 'he_ubld', 'he_uglu', 'he_upro', 'age']]\n",
    "\n",
    "## model fit\n",
    "model_new = XGBClassifier(colsample_bytree=0.6, gamma=0.8, learning_rate=0.01, max_depth=3, \n",
    "                          min_child_weight=6, n_estimators=500, objective=\"binary:logistic\",\n",
    "                          reg_alpha=0.5, reg_lambda=2, scale_pos_weight=14, subsample=0.2, \n",
    "                          nthread=6, random_state=SEED).fit(X_train_features_new, y_train)\n",
    "scores_new = evaluate_model(X_train_features_new, y_train, model)\n",
    "print('Mean AUC of new model : %.3f (%.3f)' % (mean(scores_new), std(scores_new)))"
   ]
  },
  {
   "cell_type": "code",
   "execution_count": 16,
   "metadata": {},
   "outputs": [],
   "source": [
    "## model save\n",
    "joblib.dump(model_new, \"/home/danssa/proj_ua/shared/ua60_model\")\n",
    "load_model = joblib.load('ua60_model')"
   ]
  },
  {
   "cell_type": "code",
   "execution_count": 25,
   "metadata": {},
   "outputs": [],
   "source": [
    "#testset proteinuria\n",
    "X_test_features = X_test.loc[:, ['male', 'he_usg', 'he_uph', 'he_ubld', 'he_uglu', 'he_upro', 'age']]\n",
    "std_df=X_test_features[std_cols]\n",
    "X_test_features[std_cols]=scaler.transform(std_df)\n",
    "\n",
    "#testset non proteinuria\n",
    "X_test_non = X_test.query('he_upro<2')\n",
    "X_test_features_non = X_test_non.loc[:, ['male', 'he_usg', 'he_uph', 'he_ubld', 'he_uglu', 'he_upro', 'age']]\n",
    "std_df_non=X_test_features_non[std_cols]\n",
    "X_test_features_non[std_cols]=scaler.transform(std_df_non)\n",
    "\n",
    "#testset proteinuria\n",
    "X_test_pro = X_test.query('he_upro>=2')\n",
    "X_test_features_pro = X_test_pro.loc[:, ['male', 'he_usg', 'he_uph', 'he_ubld', 'he_uglu', 'he_upro', 'age']]\n",
    "std_df_pro=X_test_features_pro[std_cols]\n",
    "X_test_features_pro[std_cols]=scaler.transform(std_df_pro)"
   ]
  },
  {
   "cell_type": "code",
   "execution_count": 27,
   "metadata": {},
   "outputs": [],
   "source": [
    "# make sample df\n",
    "\n",
    "## non-proteinuria\n",
    "df_non_sample = resample(X_test_non, n_samples=2000, replace=False, stratify=X_test_non['eGFR_ab'], random_state=0)\n",
    "df_non_sample = df_non_sample.drop(['from','level','leucocyte','id'], axis=1)\n",
    "df_non_sample.to_csv('/home/danssa/proj_ua/shared/sample60_non.csv', index=False)\n",
    "\n",
    "## proteinuria\n",
    "df_pro_sample = resample(X_test_pro, n_samples=2000, replace=False, stratify=X_test_pro['eGFR_ab'], random_state=0)\n",
    "df_pro_sample = df_pro_sample.drop(['from','level','leucocyte','id'], axis=1)\n",
    "df_pro_sample.to_csv('/home/danssa/proj_ua/shared/sample60_pro.csv', index=False)"
   ]
  },
  {
   "cell_type": "code",
   "execution_count": 28,
   "metadata": {},
   "outputs": [],
   "source": [
    "# load sample df\n",
    "\n",
    "sample_non = pd.read_csv('sample60_non.csv')\n",
    "sample_pro = pd.read_csv('sample60_pro.csv')"
   ]
  },
  {
   "cell_type": "code",
   "execution_count": 30,
   "metadata": {},
   "outputs": [],
   "source": [
    "#standardization columns\n",
    "std_cols=['age','he_uph','he_usg']\n",
    "\n",
    "#testset non proteinuria\n",
    "X_test_non = sample_non\n",
    "X_test_features_non = X_test_non.loc[:, ['male', 'he_usg', 'he_uph', 'he_ubld', 'he_uglu', 'he_upro', 'age']]\n",
    "std_df_non=X_test_features_non[std_cols]\n",
    "X_test_features_non[std_cols]=scaler.transform(std_df_non)\n",
    "y_test_non = sample_non['eGFR_ab']\n",
    "\n",
    "#testset proteinuria\n",
    "X_test_pro = sample_pro\n",
    "X_test_features_pro = X_test_pro.loc[:, ['male', 'he_usg', 'he_uph', 'he_ubld', 'he_uglu', 'he_upro', 'age']]\n",
    "std_df_pro=X_test_features_pro[std_cols]\n",
    "X_test_features_pro[std_cols]=scaler.transform(std_df_pro)\n",
    "y_test_pro = sample_pro['eGFR_ab']"
   ]
  },
  {
   "cell_type": "code",
   "execution_count": 31,
   "metadata": {},
   "outputs": [
    {
     "name": "stdout",
     "output_type": "stream",
     "text": [
      "Non-proteinuria\n",
      "\n",
      "Classification Report\n",
      "\n",
      "Best Threshold=0.333, sensitivity = 0.90, specificity = 0.77, J=0.670\n",
      "              precision    recall  f1-score   support\n",
      "\n",
      "      normal       0.99      0.77      0.87      1903\n",
      "    abnormal       0.17      0.90      0.28        97\n",
      "\n",
      "    accuracy                           0.78      2000\n",
      "   macro avg       0.58      0.83      0.58      2000\n",
      "weighted avg       0.95      0.78      0.84      2000\n",
      "\n"
     ]
    },
    {
     "data": {
      "image/png": "[encoded data removed]",
      "text/plain": [
       "<Figure size 720x720 with 1 Axes>"
      ]
     },
     "metadata": {
      "needs_background": "light"
     },
     "output_type": "display_data"
    }
   ],
   "source": [
    "#non proteinuria\n",
    "\n",
    "#Youden’s J statistic. / J = Sensitivity + Specificity – 1\n",
    "y_prob_non = load_model.predict_proba(X_test_features_non)[:,1]\n",
    "\n",
    "# calculate roc curves\n",
    "fpr_non, tpr_non, thresholds_non = roc_curve(y_test_non, y_prob_non)\n",
    "# get the best threshold\n",
    "J_non = tpr_non - fpr_non\n",
    "ix_non = argmax(J_non)\n",
    "best_thresh_non = thresholds_non[ix_non]\n",
    "\n",
    "print('Non-proteinuria')\n",
    "print('\\nClassification Report\\n')\n",
    "print('Best Threshold=%.3f, sensitivity = %.2f, specificity = %.2f, J=%.3f' % (best_thresh_non, tpr_non[ix_non], 1-fpr_non[ix_non], J_non[ix_non]))\n",
    "\n",
    "y_prob_pred_non = (y_prob_non >= best_thresh_non).astype(bool)\n",
    "print(classification_report(y_test_non, y_prob_pred_non, target_names=['normal', 'abnormal']))\n",
    "\n",
    "#plot roc and best threshold\n",
    "sens_non, spec_non = tpr_non[ix_non], 1-fpr_non[ix_non]\n",
    "# plot the roc curve for the model\n",
    "plt.rcParams[\"figure.figsize\"] = (10,10)\n",
    "plt.rcParams[\"font.size\"] = 18\n",
    "plt.plot([0,1], [0,1], linestyle='--', markersize=0.01, color='black')\n",
    "plt.plot(fpr_non, tpr_non, marker='.', color='black', markersize=0.05, label=\"Non-proteinuria AUC = %.2f\" % roc_auc_score(y_test_non, y_prob_non))\n",
    "plt.scatter(fpr_non[ix_non], tpr_non[ix_non], marker='+', s=100, color='k', \n",
    "            label='Best threshold = %.3f \\nSensitivity = %.2f \\nSpecificity = %.2f' % (best_thresh_non, sens_non, spec_non))\n",
    "\n",
    "# axis labels\n",
    "plt.xlabel('False Positive Rate')\n",
    "plt.ylabel('True Positive Rate')\n",
    "plt.legend(loc=4)\n",
    "\n",
    "# show the plot\n",
    "plt.show()"
   ]
  },
  {
   "cell_type": "code",
   "execution_count": 32,
   "metadata": {},
   "outputs": [
    {
     "name": "stdout",
     "output_type": "stream",
     "text": [
      "Proteinuria\n",
      "\n",
      "Classification Report\n",
      "\n",
      "Best Threshold=0.744, sensitivity = 0.88, specificity = 0.73, J=0.609\n",
      "              precision    recall  f1-score   support\n",
      "\n",
      "      normal       0.95      0.73      0.82      1498\n",
      "    abnormal       0.52      0.88      0.65       502\n",
      "\n",
      "    accuracy                           0.77      2000\n",
      "   macro avg       0.73      0.80      0.74      2000\n",
      "weighted avg       0.84      0.77      0.78      2000\n",
      "\n"
     ]
    },
    {
     "data": {
      "image/png": "[encoded data removed]",
      "text/plain": [
       "<Figure size 720x720 with 1 Axes>"
      ]
     },
     "metadata": {
      "needs_background": "light"
     },
     "output_type": "display_data"
    }
   ],
   "source": [
    "#proteinuria\n",
    "\n",
    "#Youden’s J statistic. / J = Sensitivity + Specificity – 1\n",
    "y_prob_pro = load_model.predict_proba(X_test_features_pro)[:,1]\n",
    "\n",
    "# calculate roc curves\n",
    "fpr_pro, tpr_pro, thresholds_pro = roc_curve(y_test_pro, y_prob_pro)\n",
    "# get the best threshold\n",
    "J_pro = tpr_pro - fpr_pro\n",
    "ix_pro = argmax(J_pro)\n",
    "best_thresh_pro = thresholds_pro[ix_pro]\n",
    "\n",
    "print('Proteinuria')\n",
    "print('\\nClassification Report\\n')\n",
    "print('Best Threshold=%.3f, sensitivity = %.2f, specificity = %.2f, J=%.3f' % (best_thresh_pro, tpr_pro[ix_pro], 1-fpr_pro[ix_pro], J_pro[ix_pro]))\n",
    "\n",
    "y_prob_pred_pro = (y_prob_pro >= best_thresh_pro).astype(bool)\n",
    "print(classification_report(y_test_pro, y_prob_pred_pro, target_names=['normal', 'abnormal']))\n",
    "\n",
    "#plot roc and best threshold\n",
    "sens_pro, spec_pro = tpr_pro[ix_pro], 1-fpr_pro[ix_pro]\n",
    "# plot the roc curve for the model\n",
    "plt.rcParams[\"figure.figsize\"] = (10,10)\n",
    "plt.rcParams[\"font.size\"] = 18\n",
    "plt.plot([0,1], [0,1], linestyle='--', markersize=0.01, color='black')\n",
    "plt.plot(fpr_pro, tpr_pro, marker='.', color='black', markersize=0.05, label=\"Proteinuria AUC = %.2f\" % roc_auc_score(y_test_pro, y_prob_pro))\n",
    "plt.scatter(fpr_pro[ix_pro], tpr_pro[ix_pro], marker='+', s=100, color='k', \n",
    "            label='Best threshold = %.3f \\nSensitivity = %.2f \\nSpecificity = %.2f' % (best_thresh_pro, sens_pro, spec_pro))\n",
    "\n",
    "# axis labels\n",
    "plt.xlabel('False Positive Rate')\n",
    "plt.ylabel('True Positive Rate')\n",
    "plt.legend(loc=4)\n",
    "\n",
    "# show the plot\n",
    "plt.show()"
   ]
  }
 ],
 "metadata": {
  "kernelspec": {
   "display_name": "xgb_tpot",
   "language": "python",
   "name": "xgb_tpot"
  },
  "language_info": {
   "codemirror_mode": {
    "name": "ipython",
    "version": 3
   },
   "file_extension": ".py",
   "mimetype": "text/x-python",
   "name": "python",
   "nbconvert_exporter": "python",
   "pygments_lexer": "ipython3",
   "version": "3.8.5"
  }
 },
 "nbformat": 4,
 "nbformat_minor": 4
}

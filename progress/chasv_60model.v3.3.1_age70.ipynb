{
 "cells": [
  {
   "cell_type": "markdown",
   "metadata": {},
   "source": [
    "# CHASV_60model.v3.3.1, train threshold and new subgroup, age ~70\n",
    "split 7:3"
   ]
  },
  {
   "cell_type": "code",
   "execution_count": 1,
   "metadata": {},
   "outputs": [
    {
     "name": "stdout",
     "output_type": "stream",
     "text": [
      "python version\n",
      "3.8.5 (default, Sep  4 2020, 07:30:14) \n",
      "[GCC 7.3.0]\n",
      "sklearn version =  0.23.2\n",
      "numpy version =  1.19.2\n",
      "pandas version = 1.2.3\n"
     ]
    }
   ],
   "source": [
    "SEED = 0\n",
    "cores = 16\n",
    "\n",
    "from numpy.random import seed\n",
    "seed(SEED)\n",
    "import numpy as np\n",
    "import pandas as pd\n",
    "\n",
    "from sklearn.model_selection import train_test_split\n",
    "from sklearn.preprocessing import StandardScaler\n",
    "from sklearn.metrics import roc_curve\n",
    "from collections import Counter\n",
    "from sklearn.datasets import make_classification\n",
    "from xgboost import XGBClassifier\n",
    "from sklearn.model_selection import RepeatedStratifiedKFold\n",
    "from sklearn.model_selection import cross_val_score\n",
    "from numpy import mean\n",
    "from numpy import std\n",
    "from xgboost import plot_importance\n",
    "from matplotlib import pyplot as plt\n",
    "from numpy import sqrt\n",
    "from numpy import argmax\n",
    "from sklearn.metrics import classification_report\n",
    "import shap\n",
    "from sklearn.metrics import roc_auc_score\n",
    "import sklearn.metrics as metrics\n",
    "from sklearn.metrics import plot_roc_curve\n",
    "from sklearn.metrics import precision_recall_curve\n",
    "from sklearn.calibration import CalibratedClassifierCV\n",
    "from sklearn.calibration import calibration_curve\n",
    "from sklearn.preprocessing import KBinsDiscretizer\n",
    "from sklearn.metrics import confusion_matrix\n",
    "from sklearn.utils import resample\n",
    "import seaborn as sns\n",
    "import joblib\n",
    "from BorutaShap import BorutaShap\n",
    "import tqdm\n",
    "\n",
    "# version check\n",
    "import sys\n",
    "print(\"python version\")\n",
    "print(sys.version)\n",
    "import sklearn\n",
    "print(\"sklearn version = \", sklearn.__version__)\n",
    "print(\"numpy version = \", np.__version__)\n",
    "print(\"pandas version =\", pd.__version__)"
   ]
  },
  {
   "cell_type": "code",
   "execution_count": 3,
   "metadata": {},
   "outputs": [
    {
     "data": {
      "text/html": [
       "<div>\n",
       "<style scoped>\n",
       "    .dataframe tbody tr th:only-of-type {\n",
       "        vertical-align: middle;\n",
       "    }\n",
       "\n",
       "    .dataframe tbody tr th {\n",
       "        vertical-align: top;\n",
       "    }\n",
       "\n",
       "    .dataframe thead th {\n",
       "        text-align: right;\n",
       "    }\n",
       "</style>\n",
       "<table border=\"1\" class=\"dataframe\">\n",
       "  <thead>\n",
       "    <tr style=\"text-align: right;\">\n",
       "      <th></th>\n",
       "      <th>eGFR_ab</th>\n",
       "      <th>eGFR_ckd</th>\n",
       "      <th>male</th>\n",
       "      <th>age</th>\n",
       "      <th>he_uph</th>\n",
       "      <th>he_unitr</th>\n",
       "      <th>he_usg</th>\n",
       "      <th>he_upro</th>\n",
       "      <th>he_uglu</th>\n",
       "      <th>he_uket</th>\n",
       "      <th>he_ubil</th>\n",
       "      <th>he_ubld</th>\n",
       "      <th>he_uro</th>\n",
       "      <th>leucocyte</th>\n",
       "      <th>dm</th>\n",
       "      <th>htn</th>\n",
       "    </tr>\n",
       "  </thead>\n",
       "  <tbody>\n",
       "    <tr>\n",
       "      <th>count</th>\n",
       "      <td>197263.000000</td>\n",
       "      <td>197263.000000</td>\n",
       "      <td>197263.000000</td>\n",
       "      <td>197263.000000</td>\n",
       "      <td>197263.000000</td>\n",
       "      <td>197263.000000</td>\n",
       "      <td>197263.000000</td>\n",
       "      <td>197263.000000</td>\n",
       "      <td>197263.000000</td>\n",
       "      <td>197263.000000</td>\n",
       "      <td>197263.000000</td>\n",
       "      <td>197263.000000</td>\n",
       "      <td>197263.000000</td>\n",
       "      <td>197263.000000</td>\n",
       "      <td>197263.000000</td>\n",
       "      <td>197263.000000</td>\n",
       "    </tr>\n",
       "    <tr>\n",
       "      <th>mean</th>\n",
       "      <td>0.036180</td>\n",
       "      <td>96.849245</td>\n",
       "      <td>0.427855</td>\n",
       "      <td>43.820858</td>\n",
       "      <td>6.196740</td>\n",
       "      <td>0.015426</td>\n",
       "      <td>1.018770</td>\n",
       "      <td>0.307240</td>\n",
       "      <td>0.207591</td>\n",
       "      <td>0.211768</td>\n",
       "      <td>0.038684</td>\n",
       "      <td>0.738613</td>\n",
       "      <td>0.161885</td>\n",
       "      <td>0.491881</td>\n",
       "      <td>0.025063</td>\n",
       "      <td>0.039080</td>\n",
       "    </tr>\n",
       "    <tr>\n",
       "      <th>std</th>\n",
       "      <td>0.186739</td>\n",
       "      <td>20.055817</td>\n",
       "      <td>0.494769</td>\n",
       "      <td>12.589140</td>\n",
       "      <td>0.819202</td>\n",
       "      <td>0.123240</td>\n",
       "      <td>0.007983</td>\n",
       "      <td>0.739573</td>\n",
       "      <td>0.842624</td>\n",
       "      <td>0.684205</td>\n",
       "      <td>0.320413</td>\n",
       "      <td>1.248134</td>\n",
       "      <td>0.550740</td>\n",
       "      <td>0.997794</td>\n",
       "      <td>0.156317</td>\n",
       "      <td>0.193785</td>\n",
       "    </tr>\n",
       "    <tr>\n",
       "      <th>min</th>\n",
       "      <td>0.000000</td>\n",
       "      <td>1.704754</td>\n",
       "      <td>0.000000</td>\n",
       "      <td>18.000000</td>\n",
       "      <td>5.000000</td>\n",
       "      <td>0.000000</td>\n",
       "      <td>1.005000</td>\n",
       "      <td>0.000000</td>\n",
       "      <td>0.000000</td>\n",
       "      <td>0.000000</td>\n",
       "      <td>0.000000</td>\n",
       "      <td>0.000000</td>\n",
       "      <td>0.000000</td>\n",
       "      <td>0.000000</td>\n",
       "      <td>0.000000</td>\n",
       "      <td>0.000000</td>\n",
       "    </tr>\n",
       "    <tr>\n",
       "      <th>25%</th>\n",
       "      <td>0.000000</td>\n",
       "      <td>84.281460</td>\n",
       "      <td>0.000000</td>\n",
       "      <td>34.000000</td>\n",
       "      <td>5.500000</td>\n",
       "      <td>0.000000</td>\n",
       "      <td>1.015000</td>\n",
       "      <td>0.000000</td>\n",
       "      <td>0.000000</td>\n",
       "      <td>0.000000</td>\n",
       "      <td>0.000000</td>\n",
       "      <td>0.000000</td>\n",
       "      <td>0.000000</td>\n",
       "      <td>0.000000</td>\n",
       "      <td>0.000000</td>\n",
       "      <td>0.000000</td>\n",
       "    </tr>\n",
       "    <tr>\n",
       "      <th>50%</th>\n",
       "      <td>0.000000</td>\n",
       "      <td>98.451770</td>\n",
       "      <td>0.000000</td>\n",
       "      <td>43.000000</td>\n",
       "      <td>6.000000</td>\n",
       "      <td>0.000000</td>\n",
       "      <td>1.020000</td>\n",
       "      <td>0.000000</td>\n",
       "      <td>0.000000</td>\n",
       "      <td>0.000000</td>\n",
       "      <td>0.000000</td>\n",
       "      <td>0.000000</td>\n",
       "      <td>0.000000</td>\n",
       "      <td>0.000000</td>\n",
       "      <td>0.000000</td>\n",
       "      <td>0.000000</td>\n",
       "    </tr>\n",
       "    <tr>\n",
       "      <th>75%</th>\n",
       "      <td>0.000000</td>\n",
       "      <td>111.824100</td>\n",
       "      <td>1.000000</td>\n",
       "      <td>54.000000</td>\n",
       "      <td>7.000000</td>\n",
       "      <td>0.000000</td>\n",
       "      <td>1.025000</td>\n",
       "      <td>0.000000</td>\n",
       "      <td>0.000000</td>\n",
       "      <td>0.000000</td>\n",
       "      <td>0.000000</td>\n",
       "      <td>1.000000</td>\n",
       "      <td>0.000000</td>\n",
       "      <td>0.000000</td>\n",
       "      <td>0.000000</td>\n",
       "      <td>0.000000</td>\n",
       "    </tr>\n",
       "    <tr>\n",
       "      <th>max</th>\n",
       "      <td>1.000000</td>\n",
       "      <td>257.176000</td>\n",
       "      <td>1.000000</td>\n",
       "      <td>69.000000</td>\n",
       "      <td>9.000000</td>\n",
       "      <td>1.000000</td>\n",
       "      <td>1.030000</td>\n",
       "      <td>5.000000</td>\n",
       "      <td>5.000000</td>\n",
       "      <td>5.000000</td>\n",
       "      <td>4.000000</td>\n",
       "      <td>5.000000</td>\n",
       "      <td>5.000000</td>\n",
       "      <td>4.000000</td>\n",
       "      <td>1.000000</td>\n",
       "      <td>1.000000</td>\n",
       "    </tr>\n",
       "  </tbody>\n",
       "</table>\n",
       "</div>"
      ],
      "text/plain": [
       "             eGFR_ab       eGFR_ckd           male            age  \\\n",
       "count  197263.000000  197263.000000  197263.000000  197263.000000   \n",
       "mean        0.036180      96.849245       0.427855      43.820858   \n",
       "std         0.186739      20.055817       0.494769      12.589140   \n",
       "min         0.000000       1.704754       0.000000      18.000000   \n",
       "25%         0.000000      84.281460       0.000000      34.000000   \n",
       "50%         0.000000      98.451770       0.000000      43.000000   \n",
       "75%         0.000000     111.824100       1.000000      54.000000   \n",
       "max         1.000000     257.176000       1.000000      69.000000   \n",
       "\n",
       "              he_uph       he_unitr         he_usg        he_upro  \\\n",
       "count  197263.000000  197263.000000  197263.000000  197263.000000   \n",
       "mean        6.196740       0.015426       1.018770       0.307240   \n",
       "std         0.819202       0.123240       0.007983       0.739573   \n",
       "min         5.000000       0.000000       1.005000       0.000000   \n",
       "25%         5.500000       0.000000       1.015000       0.000000   \n",
       "50%         6.000000       0.000000       1.020000       0.000000   \n",
       "75%         7.000000       0.000000       1.025000       0.000000   \n",
       "max         9.000000       1.000000       1.030000       5.000000   \n",
       "\n",
       "             he_uglu        he_uket        he_ubil        he_ubld  \\\n",
       "count  197263.000000  197263.000000  197263.000000  197263.000000   \n",
       "mean        0.207591       0.211768       0.038684       0.738613   \n",
       "std         0.842624       0.684205       0.320413       1.248134   \n",
       "min         0.000000       0.000000       0.000000       0.000000   \n",
       "25%         0.000000       0.000000       0.000000       0.000000   \n",
       "50%         0.000000       0.000000       0.000000       0.000000   \n",
       "75%         0.000000       0.000000       0.000000       1.000000   \n",
       "max         5.000000       5.000000       4.000000       5.000000   \n",
       "\n",
       "              he_uro      leucocyte             dm            htn  \n",
       "count  197263.000000  197263.000000  197263.000000  197263.000000  \n",
       "mean        0.161885       0.491881       0.025063       0.039080  \n",
       "std         0.550740       0.997794       0.156317       0.193785  \n",
       "min         0.000000       0.000000       0.000000       0.000000  \n",
       "25%         0.000000       0.000000       0.000000       0.000000  \n",
       "50%         0.000000       0.000000       0.000000       0.000000  \n",
       "75%         0.000000       0.000000       0.000000       0.000000  \n",
       "max         5.000000       4.000000       1.000000       1.000000  "
      ]
     },
     "execution_count": 3,
     "metadata": {},
     "output_type": "execute_result"
    }
   ],
   "source": [
    "df = pd.read_csv(\"/home/danssa/proj_ua/data/chasv_development.v2.csv\", dtype={'id':np.str})\n",
    "df_age1 = df.query('age<70')\n",
    "df_age2 = df.query('age<75')\n",
    "\n",
    "df2 = df_age1.loc[df['from']!=\"knhanes\"]\n",
    "df2.describe()"
   ]
  },
  {
   "cell_type": "markdown",
   "metadata": {},
   "source": [
    "## train and test set : multi staratification (eGFR and age)"
   ]
  },
  {
   "cell_type": "code",
   "execution_count": 4,
   "metadata": {},
   "outputs": [
    {
     "name": "stdout",
     "output_type": "stream",
     "text": [
      "edges :  [18.         43.55887666 57.931673   69.        ]\n",
      "age0_edge: 43.55887666024966 \n",
      "age1_edge: 57.93167299739484 \n",
      "age2_edge: 69.0\n",
      "age group:\n",
      " 0     805\n",
      "1    2052\n",
      "2    4280\n",
      "Name: level, dtype: int64\n"
     ]
    }
   ],
   "source": [
    "#3group age split  \n",
    "\n",
    "##step 1 finding edge value\n",
    "abnormal_disc = df2.query('eGFR_ab==1').loc[:,'age']\n",
    "abnormal_disc = pd.DataFrame(abnormal_disc)\n",
    "\n",
    "est = KBinsDiscretizer(n_bins=3, encode='ordinal', strategy='kmeans')\n",
    "est.fit(abnormal_disc)\n",
    "\n",
    "ab_disc = est.transform(abnormal_disc).astype('float')\n",
    "print(\"edges : \", est.bin_edges_[0])\n",
    "\n",
    "age0_edge = est.bin_edges_[0][1]\n",
    "age1_edge = est.bin_edges_[0][2]\n",
    "age2_edge = est.bin_edges_[0][3]\n",
    "print('age0_edge:', age0_edge, '\\nage1_edge:', age1_edge, '\\nage2_edge:', age2_edge)\n",
    "\n",
    "abnormal_disc['level'] = abnormal_disc.apply(lambda x : 0 if x['age']<age0_edge else 1 if x['age']<age1_edge else 2, axis=1)\n",
    "print('age group:\\n',abnormal_disc['level'].value_counts().sort_index())"
   ]
  },
  {
   "cell_type": "code",
   "execution_count": 5,
   "metadata": {},
   "outputs": [
    {
     "name": "stdout",
     "output_type": "stream",
     "text": [
      "0    103374\n",
      "1     58530\n",
      "2     35359\n",
      "Name: level, dtype: int64\n"
     ]
    }
   ],
   "source": [
    "##make 3group by age\n",
    "df3 = df2.copy()\n",
    "\n",
    "##age cut set up\n",
    "df3['level'] = df3.apply(lambda x : 0 if x['age']<age0_edge else 1 if x['age']<age1_edge else 2, axis=1)\n",
    "print(df3['level'].value_counts())"
   ]
  },
  {
   "cell_type": "code",
   "execution_count": 6,
   "metadata": {},
   "outputs": [
    {
     "name": "stdout",
     "output_type": "stream",
     "text": [
      "\n",
      "age0 18 43\n",
      "total cases = 103374\n",
      "total abnormal function of kidney = 805 \n",
      "prevalence = 0.7787257917851684\n",
      "train0 : 563 test0 : 242\n",
      "\n",
      "age1 44 57\n",
      "total cases = 58530\n",
      "total abnormal function of kidney = 2052 \n",
      "prevalence = 3.505894413121476\n",
      "train1 : 1436 test1 : 616\n",
      "\n",
      "age2 58 69\n",
      "total cases = 35359\n",
      "total abnormal function of kidney = 4280 \n",
      "prevalence = 12.104414717610792\n",
      "train2 : 2996 test2 : 1284\n"
     ]
    }
   ],
   "source": [
    "##age0 group\n",
    "X_age0 = df3[df3['level']==0]\n",
    "y_age0 = X_age0['eGFR_ab'].astype(\"int64\")\n",
    "\n",
    "print('\\nage0', X_age0['age'].min(), X_age0['age'].max())\n",
    "print(\"total cases = %d\" %X_age0.shape[0])\n",
    "print(\"total abnormal function of kidney = %d\" %sum(y_age0), \"\\nprevalence =\", sum(y_age0)/len(y_age0)*100)\n",
    "\n",
    "X_train0, X_test0, y_train0, y_test0 = train_test_split(X_age0, y_age0, test_size=0.3, stratify=y_age0, random_state=SEED)\n",
    "print(\"train0 : %d\" % sum(y_train0), \"test0 : %d\" % sum(y_test0))\n",
    "\n",
    "##age1 group\n",
    "X_age1 = df3[df3['level']==1]\n",
    "y_age1 = X_age1['eGFR_ab']\n",
    "\n",
    "print('\\nage1', X_age1['age'].min(), X_age1['age'].max())\n",
    "print(\"total cases = %d\" %X_age1.shape[0])\n",
    "print(\"total abnormal function of kidney = %d\" %sum(y_age1), \"\\nprevalence =\", sum(y_age1)/len(y_age1)*100)\n",
    "\n",
    "X_train1, X_test1, y_train1, y_test1 = train_test_split(X_age1, y_age1, test_size=0.3, stratify=y_age1, random_state=SEED)\n",
    "print(\"train1 : %d\" % sum(y_train1), \"test1 : %d\" % sum(y_test1))\n",
    "\n",
    "##age2 group\n",
    "X_age2 = df3[df3['level']==2]\n",
    "y_age2 = X_age2['eGFR_ab']\n",
    "\n",
    "print('\\nage2', X_age2['age'].min(), X_age2['age'].max())\n",
    "print(\"total cases = %d\" %X_age2.shape[0])\n",
    "print(\"total abnormal function of kidney = %d\" %sum(y_age2), \"\\nprevalence =\", sum(y_age2)/len(y_age2)*100)\n",
    "\n",
    "X_train2, X_test2, y_train2, y_test2 = train_test_split(X_age2, y_age2, test_size=0.3, stratify=y_age2, random_state=SEED)\n",
    "print(\"train2 : %d\" % sum(y_train2), \"test2 : %d\" % sum(y_test2))"
   ]
  },
  {
   "cell_type": "code",
   "execution_count": 7,
   "metadata": {},
   "outputs": [
    {
     "name": "stdout",
     "output_type": "stream",
     "text": [
      "total cases = 197263\n",
      "total abnormal function of kidney = 7137 \n",
      "prevalence = 3.6180125010772417\n"
     ]
    }
   ],
   "source": [
    "##concat both trainset and testset\n",
    "X_train = pd.concat([X_train0, X_train1, X_train2])\n",
    "y_train = pd.concat([y_train0, y_train1, y_train2])\n",
    "\n",
    "X_test = pd.concat([X_test0, X_test1, X_test2])\n",
    "y_test = pd.concat([y_test0, y_test1, y_test2])\n",
    "\n",
    "print(\"total cases = %d\" % (X_train.shape[0] + X_test.shape[0]))\n",
    "print(\"total abnormal function of kidney = %d\" % (sum(y_train) + sum(y_test)), \"\\nprevalence =\", (sum(y_train)+sum(y_test))/(len(y_train)+len(y_test))*100)"
   ]
  },
  {
   "cell_type": "markdown",
   "metadata": {},
   "source": [
    "## model features and standardization"
   ]
  },
  {
   "cell_type": "code",
   "execution_count": 8,
   "metadata": {},
   "outputs": [
    {
     "name": "stdout",
     "output_type": "stream",
     "text": [
      "138083 train cases, 12 variables\n",
      "59180 test cases\n"
     ]
    }
   ],
   "source": [
    "X_train_features = X_train.loc[:, 'male':'leucocyte']\n",
    "\n",
    "print('%d train cases, %d variables' % (X_train_features.shape[0], X_train_features.shape[1]))\n",
    "print('%d test cases'%X_test.shape[0])"
   ]
  },
  {
   "cell_type": "code",
   "execution_count": 9,
   "metadata": {},
   "outputs": [
    {
     "data": {
      "text/html": [
       "<div>\n",
       "<style scoped>\n",
       "    .dataframe tbody tr th:only-of-type {\n",
       "        vertical-align: middle;\n",
       "    }\n",
       "\n",
       "    .dataframe tbody tr th {\n",
       "        vertical-align: top;\n",
       "    }\n",
       "\n",
       "    .dataframe thead th {\n",
       "        text-align: right;\n",
       "    }\n",
       "</style>\n",
       "<table border=\"1\" class=\"dataframe\">\n",
       "  <thead>\n",
       "    <tr style=\"text-align: right;\">\n",
       "      <th></th>\n",
       "      <th>male</th>\n",
       "      <th>age</th>\n",
       "      <th>he_uph</th>\n",
       "      <th>he_unitr</th>\n",
       "      <th>he_usg</th>\n",
       "      <th>he_upro</th>\n",
       "      <th>he_uglu</th>\n",
       "      <th>he_uket</th>\n",
       "      <th>he_ubil</th>\n",
       "      <th>he_ubld</th>\n",
       "      <th>he_uro</th>\n",
       "      <th>leucocyte</th>\n",
       "    </tr>\n",
       "  </thead>\n",
       "  <tbody>\n",
       "    <tr>\n",
       "      <th>count</th>\n",
       "      <td>138083.000000</td>\n",
       "      <td>1.380830e+05</td>\n",
       "      <td>1.380830e+05</td>\n",
       "      <td>138083.000000</td>\n",
       "      <td>1.380830e+05</td>\n",
       "      <td>138083.000000</td>\n",
       "      <td>138083.000000</td>\n",
       "      <td>138083.000000</td>\n",
       "      <td>138083.000000</td>\n",
       "      <td>138083.000000</td>\n",
       "      <td>138083.000000</td>\n",
       "      <td>138083.000000</td>\n",
       "    </tr>\n",
       "    <tr>\n",
       "      <th>mean</th>\n",
       "      <td>0.427685</td>\n",
       "      <td>-1.317316e-17</td>\n",
       "      <td>4.874069e-16</td>\n",
       "      <td>0.015426</td>\n",
       "      <td>-1.038374e-14</td>\n",
       "      <td>0.305867</td>\n",
       "      <td>0.206571</td>\n",
       "      <td>0.211054</td>\n",
       "      <td>0.039042</td>\n",
       "      <td>0.737542</td>\n",
       "      <td>0.160867</td>\n",
       "      <td>0.490734</td>\n",
       "    </tr>\n",
       "    <tr>\n",
       "      <th>std</th>\n",
       "      <td>0.494745</td>\n",
       "      <td>1.000004e+00</td>\n",
       "      <td>1.000004e+00</td>\n",
       "      <td>0.123238</td>\n",
       "      <td>1.000004e+00</td>\n",
       "      <td>0.738457</td>\n",
       "      <td>0.839936</td>\n",
       "      <td>0.682632</td>\n",
       "      <td>0.321861</td>\n",
       "      <td>1.247623</td>\n",
       "      <td>0.550539</td>\n",
       "      <td>0.998336</td>\n",
       "    </tr>\n",
       "    <tr>\n",
       "      <th>min</th>\n",
       "      <td>0.000000</td>\n",
       "      <td>-2.049442e+00</td>\n",
       "      <td>-1.463852e+00</td>\n",
       "      <td>0.000000</td>\n",
       "      <td>-1.724754e+00</td>\n",
       "      <td>0.000000</td>\n",
       "      <td>0.000000</td>\n",
       "      <td>0.000000</td>\n",
       "      <td>0.000000</td>\n",
       "      <td>0.000000</td>\n",
       "      <td>0.000000</td>\n",
       "      <td>0.000000</td>\n",
       "    </tr>\n",
       "    <tr>\n",
       "      <th>25%</th>\n",
       "      <td>0.000000</td>\n",
       "      <td>-7.792453e-01</td>\n",
       "      <td>-8.526849e-01</td>\n",
       "      <td>0.000000</td>\n",
       "      <td>-4.723721e-01</td>\n",
       "      <td>0.000000</td>\n",
       "      <td>0.000000</td>\n",
       "      <td>0.000000</td>\n",
       "      <td>0.000000</td>\n",
       "      <td>0.000000</td>\n",
       "      <td>0.000000</td>\n",
       "      <td>0.000000</td>\n",
       "    </tr>\n",
       "    <tr>\n",
       "      <th>50%</th>\n",
       "      <td>0.000000</td>\n",
       "      <td>-6.475950e-02</td>\n",
       "      <td>-2.415181e-01</td>\n",
       "      <td>0.000000</td>\n",
       "      <td>1.538189e-01</td>\n",
       "      <td>0.000000</td>\n",
       "      <td>0.000000</td>\n",
       "      <td>0.000000</td>\n",
       "      <td>0.000000</td>\n",
       "      <td>0.000000</td>\n",
       "      <td>0.000000</td>\n",
       "      <td>0.000000</td>\n",
       "    </tr>\n",
       "    <tr>\n",
       "      <th>75%</th>\n",
       "      <td>1.000000</td>\n",
       "      <td>8.085009e-01</td>\n",
       "      <td>9.808156e-01</td>\n",
       "      <td>0.000000</td>\n",
       "      <td>7.800099e-01</td>\n",
       "      <td>0.000000</td>\n",
       "      <td>0.000000</td>\n",
       "      <td>0.000000</td>\n",
       "      <td>0.000000</td>\n",
       "      <td>1.000000</td>\n",
       "      <td>0.000000</td>\n",
       "      <td>0.000000</td>\n",
       "    </tr>\n",
       "    <tr>\n",
       "      <th>max</th>\n",
       "      <td>1.000000</td>\n",
       "      <td>1.999311e+00</td>\n",
       "      <td>3.425483e+00</td>\n",
       "      <td>1.000000</td>\n",
       "      <td>1.406201e+00</td>\n",
       "      <td>5.000000</td>\n",
       "      <td>5.000000</td>\n",
       "      <td>5.000000</td>\n",
       "      <td>4.000000</td>\n",
       "      <td>5.000000</td>\n",
       "      <td>5.000000</td>\n",
       "      <td>4.000000</td>\n",
       "    </tr>\n",
       "  </tbody>\n",
       "</table>\n",
       "</div>"
      ],
      "text/plain": [
       "                male           age        he_uph       he_unitr        he_usg  \\\n",
       "count  138083.000000  1.380830e+05  1.380830e+05  138083.000000  1.380830e+05   \n",
       "mean        0.427685 -1.317316e-17  4.874069e-16       0.015426 -1.038374e-14   \n",
       "std         0.494745  1.000004e+00  1.000004e+00       0.123238  1.000004e+00   \n",
       "min         0.000000 -2.049442e+00 -1.463852e+00       0.000000 -1.724754e+00   \n",
       "25%         0.000000 -7.792453e-01 -8.526849e-01       0.000000 -4.723721e-01   \n",
       "50%         0.000000 -6.475950e-02 -2.415181e-01       0.000000  1.538189e-01   \n",
       "75%         1.000000  8.085009e-01  9.808156e-01       0.000000  7.800099e-01   \n",
       "max         1.000000  1.999311e+00  3.425483e+00       1.000000  1.406201e+00   \n",
       "\n",
       "             he_upro        he_uglu        he_uket        he_ubil  \\\n",
       "count  138083.000000  138083.000000  138083.000000  138083.000000   \n",
       "mean        0.305867       0.206571       0.211054       0.039042   \n",
       "std         0.738457       0.839936       0.682632       0.321861   \n",
       "min         0.000000       0.000000       0.000000       0.000000   \n",
       "25%         0.000000       0.000000       0.000000       0.000000   \n",
       "50%         0.000000       0.000000       0.000000       0.000000   \n",
       "75%         0.000000       0.000000       0.000000       0.000000   \n",
       "max         5.000000       5.000000       5.000000       4.000000   \n",
       "\n",
       "             he_ubld         he_uro      leucocyte  \n",
       "count  138083.000000  138083.000000  138083.000000  \n",
       "mean        0.737542       0.160867       0.490734  \n",
       "std         1.247623       0.550539       0.998336  \n",
       "min         0.000000       0.000000       0.000000  \n",
       "25%         0.000000       0.000000       0.000000  \n",
       "50%         0.000000       0.000000       0.000000  \n",
       "75%         1.000000       0.000000       0.000000  \n",
       "max         5.000000       5.000000       4.000000  "
      ]
     },
     "execution_count": 9,
     "metadata": {},
     "output_type": "execute_result"
    }
   ],
   "source": [
    "#standardization\n",
    "\n",
    "scaler = StandardScaler()\n",
    "std_cols=['age','he_uph','he_usg']\n",
    "std_df=X_train_features[std_cols]\n",
    "\n",
    "X_train_features[std_cols]=scaler.fit_transform(std_df)\n",
    "X_train_features.describe()"
   ]
  },
  {
   "cell_type": "markdown",
   "metadata": {},
   "source": [
    "## initial model and final model fit"
   ]
  },
  {
   "cell_type": "code",
   "execution_count": 10,
   "metadata": {},
   "outputs": [
    {
     "name": "stdout",
     "output_type": "stream",
     "text": [
      "Mean AUC: 0.900 (0.004)\n"
     ]
    }
   ],
   "source": [
    "#model fit and mean accuracy\n",
    "def evaluate_model(X, y, model):\n",
    "    cv = RepeatedStratifiedKFold(n_splits=5, n_repeats=8, random_state=SEED)\n",
    "    scores = cross_val_score(model, X, y, scoring='roc_auc', cv=cv, n_jobs=cores)\n",
    "    return scores\n",
    "\n",
    "#model : chasv_60model.v2\n",
    "model = XGBClassifier(colsample_bytree=0.8000000000000002, gamma=2.0, learning_rate=0.01, max_depth=3, min_child_weight=2, n_estimators=500, \n",
    "                        objective=\"binary:logistic\", reg_alpha=0, reg_lambda=1, scale_pos_weight=14, subsample=0.2,\n",
    "                        nthread=6, random_state=SEED).fit(X_train_features, y_train)\n",
    "scores = evaluate_model(X_train_features, y_train, model)\n",
    "print('Mean AUC: %.3f (%.3f)' % (mean(scores), std(scores)))"
   ]
  },
  {
   "cell_type": "code",
   "execution_count": 11,
   "metadata": {},
   "outputs": [
    {
     "name": "stdout",
     "output_type": "stream",
     "text": [
      "total number of features = 12\n"
     ]
    },
    {
     "data": {
      "text/html": [
       "<div>\n",
       "<style scoped>\n",
       "    .dataframe tbody tr th:only-of-type {\n",
       "        vertical-align: middle;\n",
       "    }\n",
       "\n",
       "    .dataframe tbody tr th {\n",
       "        vertical-align: top;\n",
       "    }\n",
       "\n",
       "    .dataframe thead th {\n",
       "        text-align: right;\n",
       "    }\n",
       "</style>\n",
       "<table border=\"1\" class=\"dataframe\">\n",
       "  <thead>\n",
       "    <tr style=\"text-align: right;\">\n",
       "      <th></th>\n",
       "      <th>imp</th>\n",
       "    </tr>\n",
       "  </thead>\n",
       "  <tbody>\n",
       "    <tr>\n",
       "      <th>he_unitr</th>\n",
       "      <td>0.018479</td>\n",
       "    </tr>\n",
       "    <tr>\n",
       "      <th>leucocyte</th>\n",
       "      <td>0.023913</td>\n",
       "    </tr>\n",
       "    <tr>\n",
       "      <th>he_uket</th>\n",
       "      <td>0.026169</td>\n",
       "    </tr>\n",
       "    <tr>\n",
       "      <th>he_ubil</th>\n",
       "      <td>0.027990</td>\n",
       "    </tr>\n",
       "    <tr>\n",
       "      <th>he_uro</th>\n",
       "      <td>0.028652</td>\n",
       "    </tr>\n",
       "    <tr>\n",
       "      <th>male</th>\n",
       "      <td>0.053689</td>\n",
       "    </tr>\n",
       "    <tr>\n",
       "      <th>he_usg</th>\n",
       "      <td>0.063544</td>\n",
       "    </tr>\n",
       "    <tr>\n",
       "      <th>he_uph</th>\n",
       "      <td>0.068571</td>\n",
       "    </tr>\n",
       "    <tr>\n",
       "      <th>he_ubld</th>\n",
       "      <td>0.071065</td>\n",
       "    </tr>\n",
       "    <tr>\n",
       "      <th>he_uglu</th>\n",
       "      <td>0.076565</td>\n",
       "    </tr>\n",
       "    <tr>\n",
       "      <th>he_upro</th>\n",
       "      <td>0.231511</td>\n",
       "    </tr>\n",
       "    <tr>\n",
       "      <th>age</th>\n",
       "      <td>0.309851</td>\n",
       "    </tr>\n",
       "  </tbody>\n",
       "</table>\n",
       "</div>"
      ],
      "text/plain": [
       "                imp\n",
       "he_unitr   0.018479\n",
       "leucocyte  0.023913\n",
       "he_uket    0.026169\n",
       "he_ubil    0.027990\n",
       "he_uro     0.028652\n",
       "male       0.053689\n",
       "he_usg     0.063544\n",
       "he_uph     0.068571\n",
       "he_ubld    0.071065\n",
       "he_uglu    0.076565\n",
       "he_upro    0.231511\n",
       "age        0.309851"
      ]
     },
     "execution_count": 11,
     "metadata": {},
     "output_type": "execute_result"
    }
   ],
   "source": [
    "# dimensionality reduction using feature importance\n",
    "df_imp = pd.DataFrame({'imp':model.feature_importances_}, index = model.get_booster().feature_names)\n",
    "df_imp = df_imp[df_imp.imp > 0].sort_values('imp').copy()\n",
    "\n",
    "feat_num = df_imp.shape[0]\n",
    "print(\"total number of features =\", feat_num)\n",
    "df_imp"
   ]
  },
  {
   "cell_type": "code",
   "execution_count": 12,
   "metadata": {},
   "outputs": [
    {
     "name": "stdout",
     "output_type": "stream",
     "text": [
      "Mean AUC of new model : 0.900 (0.004)\n"
     ]
    }
   ],
   "source": [
    "# new model \n",
    "\n",
    "## new trainset\n",
    "X_train_features_new = X_train_features.loc[:, ['male', 'he_usg', 'he_uph', 'he_ubld', 'he_uglu', 'he_upro', 'age']]\n",
    "\n",
    "## model: chasv_60model.v1\n",
    "model_new = XGBClassifier(colsample_bytree=0.8000000000000002, gamma=2.0, learning_rate=0.01, max_depth=3, min_child_weight=2, n_estimators=500, \n",
    "                        objective=\"binary:logistic\", reg_alpha=0, reg_lambda=1, scale_pos_weight=14, subsample=0.2,\n",
    "                           nthread=6, random_state=SEED).fit(X_train_features_new, y_train)\n",
    "scores_new = evaluate_model(X_train_features_new, y_train, model_new)\n",
    "print('Mean AUC of new model : %.3f (%.3f)' % (mean(scores_new), std(scores_new)))"
   ]
  },
  {
   "cell_type": "markdown",
   "metadata": {},
   "source": [
    "## find out threshold all and subgroups in train set"
   ]
  },
  {
   "cell_type": "code",
   "execution_count": 13,
   "metadata": {},
   "outputs": [],
   "source": [
    "df_train = X_train.copy()\n",
    "df_train['prob'] = model_new.predict_proba(X_train_features_new)[:,1]\n",
    "\n",
    "train_all = df_train.copy()\n",
    "train_sub1 = df_train.query('dm==1')\n",
    "train_sub2 = df_train.query('htn==1')\n",
    "train_sub3 = df_train.query('age<65')\n",
    "train_sub4 = df_train.query('age>=65')"
   ]
  },
  {
   "cell_type": "code",
   "execution_count": 14,
   "metadata": {},
   "outputs": [
    {
     "name": "stdout",
     "output_type": "stream",
     "text": [
      "train set\n",
      "total cases, prevalence (cases)\n",
      "train all: 138083, 3.6 (4995)\n",
      "subgroup1: 3446, 3.2 (111)\n",
      "subgroup2: 5396, 1.6 (88)\n",
      "subgroup3: 129112, 2.6 (3418)\n",
      "subgroup4: 8971, 17.6 (1577)\n"
     ]
    }
   ],
   "source": [
    "print('train set')\n",
    "print('total cases, prevalence (cases)')\n",
    "print('train all: %d, %.1f (%d)' % (len(train_all), sum(train_all['eGFR_ab'])/len(train_all)*100, sum(train_all['eGFR_ab'])))\n",
    "print('subgroup1: %d, %.1f (%d)' % (len(train_sub1), sum(train_sub1['eGFR_ab'])/len(train_sub1)*100, sum(train_sub1['eGFR_ab'])))\n",
    "print('subgroup2: %d, %.1f (%d)' % (len(train_sub2), sum(train_sub2['eGFR_ab'])/len(train_sub2)*100, sum(train_sub2['eGFR_ab'])))\n",
    "print('subgroup3: %d, %.1f (%d)' % (len(train_sub3), sum(train_sub3['eGFR_ab'])/len(train_sub3)*100, sum(train_sub3['eGFR_ab'])))\n",
    "print('subgroup4: %d, %.1f (%d)' % (len(train_sub4), sum(train_sub4['eGFR_ab'])/len(train_sub4)*100, sum(train_sub4['eGFR_ab'])))"
   ]
  },
  {
   "cell_type": "code",
   "execution_count": 15,
   "metadata": {},
   "outputs": [],
   "source": [
    "# confidence intervals\n",
    "def cical(box, alpha=0.95):\n",
    "    p = ((1.0-alpha)/2.0)*100\n",
    "    lower = max(0.0, np.percentile(box, p))\n",
    "    p = (alpha+((1.0-alpha)/2.0))*100\n",
    "    upper = min(1.0, np.percentile(box, p))\n",
    "   # mean = mean(box)\n",
    "    median = np.median(box)\n",
    "    \n",
    "    return print('mean(ci): %.2f (%.2f-%.2f), median:%.2f' % (mean(box), lower, upper, np.median(box)))"
   ]
  },
  {
   "cell_type": "markdown",
   "metadata": {},
   "source": [
    "### train_all"
   ]
  },
  {
   "cell_type": "code",
   "execution_count": 16,
   "metadata": {},
   "outputs": [
    {
     "name": "stderr",
     "output_type": "stream",
     "text": [
      "100%|██████████| 10000/10000 [16:49<00:00,  9.91it/s]\n"
     ]
    }
   ],
   "source": [
    "# configure bootstrap\n",
    "data = train_all\n",
    "\n",
    "n_iterations = 10000\n",
    "n_size = len(data)\n",
    "\n",
    "# run bootstrap\n",
    "auc_box_train_all = []\n",
    "th_box_train_all = []\n",
    "se_box_train_all = []\n",
    "sp_box_train_all = []\n",
    "\n",
    "# for loop\n",
    "with tqdm.tqdm(total=n_iterations) as pbar:\n",
    "    for i in range(n_iterations):\n",
    "        boot = resample(data, n_samples=n_size, replace=True, stratify=data['eGFR_ab'])\n",
    "        auc = roc_auc_score(boot['eGFR_ab'], boot['prob'])\n",
    "        \n",
    "        auc_box_train_all.append(auc)\n",
    "        \n",
    "        # calculate roc curves\n",
    "        fpr, tpr, thresholds = roc_curve(boot['eGFR_ab'], boot['prob'])\n",
    "        J = tpr - fpr\n",
    "        ix = argmax(J)\n",
    "        best_thresh, se, sp = thresholds[ix], tpr[ix], 1-fpr[ix]\n",
    "        \n",
    "        th_box_train_all.append(best_thresh)\n",
    "        se_box_train_all.append(se)\n",
    "        sp_box_train_all.append(sp)\n",
    "        \n",
    "        pbar.update()"
   ]
  },
  {
   "cell_type": "code",
   "execution_count": 17,
   "metadata": {},
   "outputs": [
    {
     "name": "stdout",
     "output_type": "stream",
     "text": [
      "train_all, bootstrap\n",
      "auc-se-sp-th\n",
      "mean(ci): 0.90 (0.90-0.91), median:0.90\n",
      "mean(ci): 0.84 (0.82-0.86), median:0.84\n",
      "mean(ci): 0.80 (0.79-0.82), median:0.80\n",
      "mean(ci): 0.34 (0.32-0.37), median:0.33\n"
     ]
    }
   ],
   "source": [
    "print('train_all, bootstrap\\nauc-se-sp-th')\n",
    "cical(auc_box_train_all)\n",
    "cical(se_box_train_all)\n",
    "cical(sp_box_train_all)\n",
    "cical(th_box_train_all)"
   ]
  },
  {
   "cell_type": "markdown",
   "metadata": {},
   "source": [
    "### train_sub1, diabetes"
   ]
  },
  {
   "cell_type": "code",
   "execution_count": 18,
   "metadata": {},
   "outputs": [
    {
     "name": "stderr",
     "output_type": "stream",
     "text": [
      "100%|██████████| 10000/10000 [00:37<00:00, 266.09it/s]\n"
     ]
    }
   ],
   "source": [
    "# configure bootstrap\n",
    "data = train_sub1\n",
    "\n",
    "n_iterations = 10000\n",
    "n_size = len(data)\n",
    "\n",
    "# run bootstrap\n",
    "auc_box_train_sub1 = []\n",
    "th_box_train_sub1 = []\n",
    "se_box_train_sub1 = []\n",
    "sp_box_train_sub1 = []\n",
    "\n",
    "# for loop\n",
    "with tqdm.tqdm(total=n_iterations) as pbar:\n",
    "    for i in range(n_iterations):\n",
    "        boot = resample(data, n_samples=n_size, replace=True, stratify=data['eGFR_ab'])\n",
    "        auc = roc_auc_score(boot['eGFR_ab'], boot['prob'])\n",
    "        \n",
    "        auc_box_train_sub1.append(auc)\n",
    "        \n",
    "        # calculate roc curves\n",
    "        fpr, tpr, thresholds = roc_curve(boot['eGFR_ab'], boot['prob'])\n",
    "        J = tpr - fpr\n",
    "        ix = argmax(J)\n",
    "        best_thresh, se, sp = thresholds[ix], tpr[ix], 1-fpr[ix]\n",
    "        \n",
    "        th_box_train_sub1.append(best_thresh)\n",
    "        se_box_train_sub1.append(se)\n",
    "        sp_box_train_sub1.append(sp)\n",
    "        \n",
    "        pbar.update()"
   ]
  },
  {
   "cell_type": "code",
   "execution_count": 19,
   "metadata": {},
   "outputs": [
    {
     "name": "stdout",
     "output_type": "stream",
     "text": [
      "train_sub1, bootstrap\n",
      "auc-se-sp-th\n",
      "mean(ci): 0.86 (0.82-0.90), median:0.86\n",
      "mean(ci): 0.74 (0.63-0.84), median:0.74\n",
      "mean(ci): 0.87 (0.78-0.93), median:0.88\n",
      "mean(ci): 0.58 (0.47-0.66), median:0.59\n"
     ]
    }
   ],
   "source": [
    "print('train_sub1, bootstrap\\nauc-se-sp-th')\n",
    "cical(auc_box_train_sub1)\n",
    "cical(se_box_train_sub1)\n",
    "cical(sp_box_train_sub1)\n",
    "cical(th_box_train_sub1)"
   ]
  },
  {
   "cell_type": "markdown",
   "metadata": {},
   "source": [
    "### train_sub2, hypertension"
   ]
  },
  {
   "cell_type": "code",
   "execution_count": 20,
   "metadata": {},
   "outputs": [
    {
     "name": "stderr",
     "output_type": "stream",
     "text": [
      "100%|██████████| 10000/10000 [00:48<00:00, 207.08it/s]\n"
     ]
    }
   ],
   "source": [
    "# configure bootstrap\n",
    "data = train_sub2\n",
    "\n",
    "n_iterations = 10000\n",
    "n_size = len(data)\n",
    "\n",
    "# run bootstrap\n",
    "auc_box_train_sub2 = []\n",
    "th_box_train_sub2 = []\n",
    "se_box_train_sub2 = []\n",
    "sp_box_train_sub2 = []\n",
    "\n",
    "# for loop\n",
    "with tqdm.tqdm(total=n_iterations) as pbar:\n",
    "    for i in range(n_iterations):\n",
    "        boot = resample(data, n_samples=n_size, replace=True, stratify=data['eGFR_ab'])\n",
    "        auc = roc_auc_score(boot['eGFR_ab'], boot['prob'])\n",
    "        \n",
    "        auc_box_train_sub2.append(auc)\n",
    "        \n",
    "        # calculate roc curves\n",
    "        fpr, tpr, thresholds = roc_curve(boot['eGFR_ab'], boot['prob'])\n",
    "        J = tpr - fpr\n",
    "        ix = argmax(J)\n",
    "        best_thresh, se, sp = thresholds[ix], tpr[ix], 1-fpr[ix]\n",
    "        \n",
    "        th_box_train_sub2.append(best_thresh)\n",
    "        se_box_train_sub2.append(se)\n",
    "        sp_box_train_sub2.append(sp)\n",
    "        \n",
    "        pbar.update()"
   ]
  },
  {
   "cell_type": "code",
   "execution_count": 21,
   "metadata": {},
   "outputs": [
    {
     "name": "stdout",
     "output_type": "stream",
     "text": [
      "train_sub2, bootstrap\n",
      "auc-se-sp-th\n",
      "mean(ci): 0.85 (0.81-0.89), median:0.85\n",
      "mean(ci): 0.77 (0.62-0.92), median:0.76\n",
      "mean(ci): 0.79 (0.64-0.90), median:0.80\n",
      "mean(ci): 0.45 (0.27-0.57), median:0.44\n"
     ]
    }
   ],
   "source": [
    "print('train_sub2, bootstrap\\nauc-se-sp-th')\n",
    "cical(auc_box_train_sub2)\n",
    "cical(se_box_train_sub2)\n",
    "cical(sp_box_train_sub2)\n",
    "cical(th_box_train_sub2)"
   ]
  },
  {
   "cell_type": "markdown",
   "metadata": {},
   "source": [
    "### train_sub3, age<65"
   ]
  },
  {
   "cell_type": "code",
   "execution_count": 22,
   "metadata": {},
   "outputs": [
    {
     "name": "stderr",
     "output_type": "stream",
     "text": [
      "100%|██████████| 10000/10000 [15:48<00:00, 10.55it/s]\n"
     ]
    }
   ],
   "source": [
    "# configure bootstrap\n",
    "data = train_sub3\n",
    "\n",
    "n_iterations = 10000\n",
    "n_size = len(data)\n",
    "\n",
    "# run bootstrap\n",
    "auc_box_train_sub3 = []\n",
    "th_box_train_sub3 = []\n",
    "se_box_train_sub3 = []\n",
    "sp_box_train_sub3 = []\n",
    "\n",
    "# for loop\n",
    "with tqdm.tqdm(total=n_iterations) as pbar:\n",
    "    for i in range(n_iterations):\n",
    "        boot = resample(data, n_samples=n_size, replace=True, stratify=data['eGFR_ab'])\n",
    "        auc = roc_auc_score(boot['eGFR_ab'], boot['prob'])\n",
    "        \n",
    "        auc_box_train_sub3.append(auc)\n",
    "        \n",
    "        # calculate roc curves\n",
    "        fpr, tpr, thresholds = roc_curve(boot['eGFR_ab'], boot['prob'])\n",
    "        J = tpr - fpr\n",
    "        ix = argmax(J)\n",
    "        best_thresh, se, sp = thresholds[ix], tpr[ix], 1-fpr[ix]\n",
    "        \n",
    "        th_box_train_sub3.append(best_thresh)\n",
    "        se_box_train_sub3.append(se)\n",
    "        sp_box_train_sub3.append(sp)\n",
    "        \n",
    "        pbar.update()"
   ]
  },
  {
   "cell_type": "code",
   "execution_count": 23,
   "metadata": {},
   "outputs": [
    {
     "name": "stdout",
     "output_type": "stream",
     "text": [
      "train_sub3, bootstrap\n",
      "auc-se-sp-th\n",
      "mean(ci): 0.90 (0.89-0.90), median:0.90\n",
      "mean(ci): 0.81 (0.77-0.84), median:0.81\n",
      "mean(ci): 0.81 (0.79-0.85), median:0.81\n",
      "mean(ci): 0.29 (0.27-0.33), median:0.28\n"
     ]
    }
   ],
   "source": [
    "print('train_sub3, bootstrap\\nauc-se-sp-th')\n",
    "cical(auc_box_train_sub3)\n",
    "cical(se_box_train_sub3)\n",
    "cical(sp_box_train_sub3)\n",
    "cical(th_box_train_sub3)"
   ]
  },
  {
   "cell_type": "markdown",
   "metadata": {},
   "source": [
    "### train_sub4, age>=65"
   ]
  },
  {
   "cell_type": "code",
   "execution_count": 24,
   "metadata": {},
   "outputs": [
    {
     "name": "stderr",
     "output_type": "stream",
     "text": [
      "100%|██████████| 10000/10000 [01:12<00:00, 138.72it/s]\n"
     ]
    }
   ],
   "source": [
    "# configure bootstrap\n",
    "data = train_sub4\n",
    "\n",
    "n_iterations = 10000\n",
    "n_size = len(data)\n",
    "\n",
    "# run bootstrap\n",
    "auc_box_train_sub4 = []\n",
    "th_box_train_sub4 = []\n",
    "se_box_train_sub4 = []\n",
    "sp_box_train_sub4 = []\n",
    "\n",
    "# for loop\n",
    "with tqdm.tqdm(total=n_iterations) as pbar:\n",
    "    for i in range(n_iterations):\n",
    "        boot = resample(data, n_samples=n_size, replace=True, stratify=data['eGFR_ab'])\n",
    "        auc = roc_auc_score(boot['eGFR_ab'], boot['prob'])\n",
    "        \n",
    "        auc_box_train_sub4.append(auc)\n",
    "        \n",
    "        # calculate roc curves\n",
    "        fpr, tpr, thresholds = roc_curve(boot['eGFR_ab'], boot['prob'])\n",
    "        J = tpr - fpr\n",
    "        ix = argmax(J)\n",
    "        best_thresh, se, sp = thresholds[ix], tpr[ix], 1-fpr[ix]\n",
    "        \n",
    "        th_box_train_sub4.append(best_thresh)\n",
    "        se_box_train_sub4.append(se)\n",
    "        sp_box_train_sub4.append(sp)\n",
    "        \n",
    "        pbar.update()"
   ]
  },
  {
   "cell_type": "code",
   "execution_count": 25,
   "metadata": {},
   "outputs": [
    {
     "name": "stdout",
     "output_type": "stream",
     "text": [
      "train_sub4, bootstrap\n",
      "auc-se-sp-th\n",
      "mean(ci): 0.69 (0.68-0.71), median:0.69\n",
      "mean(ci): 0.47 (0.39-0.62), median:0.45\n",
      "mean(ci): 0.81 (0.67-0.89), median:0.84\n",
      "mean(ci): 0.74 (0.69-0.77), median:0.74\n"
     ]
    }
   ],
   "source": [
    "print('train_sub4, bootstrap\\nauc-se-sp-th')\n",
    "cical(auc_box_train_sub4)\n",
    "cical(se_box_train_sub4)\n",
    "cical(sp_box_train_sub4)\n",
    "cical(th_box_train_sub4)"
   ]
  },
  {
   "cell_type": "markdown",
   "metadata": {},
   "source": [
    "### thresholds in train set"
   ]
  },
  {
   "cell_type": "code",
   "execution_count": 26,
   "metadata": {},
   "outputs": [
    {
     "data": {
      "image/png": "[encoded data removed]",
      "text/plain": [
       "<Figure size 432x288 with 1 Axes>"
      ]
     },
     "metadata": {
      "needs_background": "light"
     },
     "output_type": "display_data"
    },
    {
     "name": "stdout",
     "output_type": "stream",
     "text": [
      "all-1-2-3-4\n",
      "mean(ci): 0.34 (0.32-0.37), median:0.33\n",
      "mean(ci): 0.58 (0.47-0.66), median:0.59\n",
      "mean(ci): 0.45 (0.27-0.57), median:0.44\n",
      "mean(ci): 0.29 (0.27-0.33), median:0.28\n",
      "mean(ci): 0.74 (0.69-0.77), median:0.74\n"
     ]
    }
   ],
   "source": [
    "# Kernel Density Estimate Plot  \n",
    "sns.kdeplot(th_box_train_all, label='all')\n",
    "sns.kdeplot(th_box_train_sub1, label='sub1')\n",
    "sns.kdeplot(th_box_train_sub2, label='sub2')\n",
    "sns.kdeplot(th_box_train_sub3, label='sub3')\n",
    "sns.kdeplot(th_box_train_sub4, label='sub4')\n",
    "\n",
    "plt.title(\"eGFR60 model, thresholds, train set\")\n",
    "#plt.xlim(0.8,1)\n",
    "plt.legend()\n",
    "plt.show()\n",
    "\n",
    "print('all-1-2-3-4')\n",
    "cical(th_box_train_all)\n",
    "cical(th_box_train_sub1)\n",
    "cical(th_box_train_sub2)\n",
    "cical(th_box_train_sub3)\n",
    "cical(th_box_train_sub4)"
   ]
  },
  {
   "cell_type": "markdown",
   "metadata": {},
   "source": [
    "## Internal Validation"
   ]
  },
  {
   "cell_type": "code",
   "execution_count": 27,
   "metadata": {},
   "outputs": [],
   "source": [
    "#testset proteinuria\n",
    "X_test_features = X_test.loc[:, ['male', 'he_usg', 'he_uph', 'he_ubld', 'he_uglu', 'he_upro', 'age']]\n",
    "std_df=X_test_features[std_cols]\n",
    "X_test_features[std_cols]=scaler.transform(std_df)"
   ]
  },
  {
   "cell_type": "code",
   "execution_count": 28,
   "metadata": {},
   "outputs": [],
   "source": [
    "# for logistic regression, data\n",
    "lr = X_test.copy()\n",
    "lr[['std_age', 'std_uph', 'std_usg']] = X_test_features[std_cols]\n",
    "#lr.to_csv(\"/home/danssa/proj_ua/data/df_lr_chasv.v1.csv\", encoding='utf-8', index=False)"
   ]
  },
  {
   "cell_type": "code",
   "execution_count": 29,
   "metadata": {},
   "outputs": [],
   "source": [
    "# dataframe for bootstrap\n",
    "y_prob = model_new.predict_proba(X_test_features)[:,1]\n",
    "df_test = X_test.copy()\n",
    "df_test['prob'] = y_prob\n",
    "\n",
    "test_all = df_test.copy()\n",
    "test_sub1 = df_test.query('dm==1')\n",
    "test_sub2 = df_test.query('htn==1')\n",
    "test_sub3 = df_test.query('age<65')\n",
    "test_sub4 = df_test.query('age>=65')"
   ]
  },
  {
   "cell_type": "code",
   "execution_count": 30,
   "metadata": {},
   "outputs": [
    {
     "name": "stdout",
     "output_type": "stream",
     "text": [
      "test set\n",
      "total cases, prevalence (cases)\n",
      "test  all: 59180, 3.6 (2142)\n",
      "subgroup1: 1498, 2.7 (41)\n",
      "subgroup2: 2313, 1.2 (27)\n",
      "subgroup3: 55381, 2.7 (1474)\n",
      "subgroup4: 3799, 17.6 (668)\n"
     ]
    }
   ],
   "source": [
    "print('test set')\n",
    "print('total cases, prevalence (cases)')\n",
    "print('test  all: %d, %.1f (%d)' % (len(test_all), sum(test_all['eGFR_ab'])/len(test_all)*100, sum(test_all['eGFR_ab'])))\n",
    "print('subgroup1: %d, %.1f (%d)' % (len(test_sub1), sum(test_sub1['eGFR_ab'])/len(test_sub1)*100, sum(test_sub1['eGFR_ab'])))\n",
    "print('subgroup2: %d, %.1f (%d)' % (len(test_sub2), sum(test_sub2['eGFR_ab'])/len(test_sub2)*100, sum(test_sub2['eGFR_ab'])))\n",
    "print('subgroup3: %d, %.1f (%d)' % (len(test_sub3), sum(test_sub3['eGFR_ab'])/len(test_sub3)*100, sum(test_sub3['eGFR_ab'])))\n",
    "print('subgroup4: %d, %.1f (%d)' % (len(test_sub4), sum(test_sub4['eGFR_ab'])/len(test_sub4)*100, sum(test_sub4['eGFR_ab'])))"
   ]
  },
  {
   "cell_type": "markdown",
   "metadata": {},
   "source": [
    "### test_all"
   ]
  },
  {
   "cell_type": "code",
   "execution_count": 31,
   "metadata": {},
   "outputs": [
    {
     "name": "stderr",
     "output_type": "stream",
     "text": [
      "100%|██████████| 10000/10000 [11:38<00:00, 14.32it/s]\n"
     ]
    }
   ],
   "source": [
    "# set dataset and threshold\n",
    "data = test_all\n",
    "threshold = mean(th_box_train_all)\n",
    "\n",
    "# configure bootstrap\n",
    "n_iterations = 10000\n",
    "n_size = len(data)\n",
    "\n",
    "# run bootstrap\n",
    "auc_box_all = []\n",
    "se_box_all = []\n",
    "sp_box_all = []\n",
    "\n",
    "with tqdm.tqdm(total=n_iterations) as pbar:\n",
    "    for i in range(n_iterations):\n",
    "        boot = resample(data, n_samples=n_size, replace=True, stratify=data['eGFR_ab'])\n",
    "        auc = roc_auc_score(boot['eGFR_ab'], boot['prob'])    \n",
    "        auc_box_all.append(auc)\n",
    "        \n",
    "        y_prob_pred = (boot['prob']>threshold).astype('int')\n",
    "        cm = confusion_matrix(boot['eGFR_ab'], y_prob_pred)\n",
    "        se = cm[1][1]/(cm[1][1]+cm[1][0])\n",
    "        sp = 1-cm[0][1]/(cm[0][1]+cm[0][0])\n",
    "        se_box_all.append(se)\n",
    "        sp_box_all.append(sp)\n",
    "        \n",
    "        pbar.update()"
   ]
  },
  {
   "cell_type": "code",
   "execution_count": 32,
   "metadata": {},
   "outputs": [
    {
     "name": "stdout",
     "output_type": "stream",
     "text": [
      "test_all, bootstrap\n",
      "auc-se-sp\n",
      "mean(ci): 0.89 (0.88-0.90), median:0.89\n",
      "mean(ci): 0.81 (0.79-0.83), median:0.81\n",
      "mean(ci): 0.80 (0.80-0.80), median:0.80\n"
     ]
    }
   ],
   "source": [
    "print('test_all, bootstrap\\nauc-se-sp')\n",
    "cical(auc_box_all)\n",
    "cical(se_box_all)\n",
    "cical(sp_box_all)"
   ]
  },
  {
   "cell_type": "markdown",
   "metadata": {},
   "source": [
    "### test_sub1, diabetes"
   ]
  },
  {
   "cell_type": "code",
   "execution_count": 33,
   "metadata": {},
   "outputs": [
    {
     "name": "stderr",
     "output_type": "stream",
     "text": [
      "100%|██████████| 10000/10000 [00:46<00:00, 215.60it/s]\n"
     ]
    }
   ],
   "source": [
    "# set dataset and threshold\n",
    "data = test_sub1\n",
    "threshold = mean(th_box_train_sub1)\n",
    "\n",
    "# configure bootstrap\n",
    "n_iterations = 10000\n",
    "n_size = len(data)\n",
    "\n",
    "# run bootstrap\n",
    "auc_box_sub1 = []\n",
    "se_box_sub1 = []\n",
    "sp_box_sub1 = []\n",
    "\n",
    "with tqdm.tqdm(total=n_iterations) as pbar:\n",
    "    for i in range(n_iterations):\n",
    "        boot = resample(data, n_samples=n_size, replace=True, stratify=data['eGFR_ab'])\n",
    "        auc = roc_auc_score(boot['eGFR_ab'], boot['prob'])    \n",
    "        auc_box_sub1.append(auc)\n",
    "        \n",
    "        y_prob_pred = (boot['prob']>threshold).astype('int')\n",
    "        cm = confusion_matrix(boot['eGFR_ab'], y_prob_pred)\n",
    "        se = cm[1][1]/(cm[1][1]+cm[1][0])\n",
    "        sp = 1-cm[0][1]/(cm[0][1]+cm[0][0])\n",
    "        se_box_sub1.append(se)\n",
    "        sp_box_sub1.append(sp)\n",
    "        \n",
    "        pbar.update()"
   ]
  },
  {
   "cell_type": "code",
   "execution_count": 34,
   "metadata": {},
   "outputs": [
    {
     "name": "stdout",
     "output_type": "stream",
     "text": [
      "test_sub1, bootstrap\n",
      "auc-se-sp\n",
      "mean(ci): 0.88 (0.83-0.93), median:0.88\n",
      "mean(ci): 0.66 (0.51-0.80), median:0.66\n",
      "mean(ci): 0.85 (0.83-0.87), median:0.85\n"
     ]
    }
   ],
   "source": [
    "print('test_sub1, bootstrap\\nauc-se-sp')\n",
    "cical(auc_box_sub1)\n",
    "cical(se_box_sub1)\n",
    "cical(sp_box_sub1)"
   ]
  },
  {
   "cell_type": "markdown",
   "metadata": {},
   "source": [
    "### test_sub2, hypertension"
   ]
  },
  {
   "cell_type": "code",
   "execution_count": 35,
   "metadata": {},
   "outputs": [
    {
     "name": "stderr",
     "output_type": "stream",
     "text": [
      "100%|██████████| 10000/10000 [00:48<00:00, 205.49it/s]\n"
     ]
    }
   ],
   "source": [
    "# set dataset and threshold\n",
    "data = test_sub2\n",
    "threshold = mean(th_box_train_sub2)\n",
    "\n",
    "# configure bootstrap\n",
    "n_iterations = 10000\n",
    "n_size = len(data)\n",
    "\n",
    "# run bootstrap\n",
    "auc_box_sub2 = []\n",
    "se_box_sub2 = []\n",
    "sp_box_sub2 = []\n",
    "\n",
    "with tqdm.tqdm(total=n_iterations) as pbar:\n",
    "    for i in range(n_iterations):\n",
    "        boot = resample(data, n_samples=n_size, replace=True, stratify=data['eGFR_ab'])\n",
    "        auc = roc_auc_score(boot['eGFR_ab'], boot['prob'])    \n",
    "        auc_box_sub2.append(auc)\n",
    "        \n",
    "        y_prob_pred = (boot['prob']>threshold).astype('int')\n",
    "        cm = confusion_matrix(boot['eGFR_ab'], y_prob_pred)\n",
    "        se = cm[1][1]/(cm[1][1]+cm[1][0])\n",
    "        sp = 1-cm[0][1]/(cm[0][1]+cm[0][0])\n",
    "        se_box_sub2.append(se)\n",
    "        sp_box_sub2.append(sp)\n",
    "        \n",
    "        pbar.update()"
   ]
  },
  {
   "cell_type": "code",
   "execution_count": 36,
   "metadata": {},
   "outputs": [
    {
     "name": "stdout",
     "output_type": "stream",
     "text": [
      "test_sub2, bootstrap\n",
      "auc-se-sp\n",
      "mean(ci): 0.85 (0.79-0.91), median:0.85\n",
      "mean(ci): 0.71 (0.52-0.85), median:0.70\n",
      "mean(ci): 0.80 (0.79-0.82), median:0.80\n"
     ]
    }
   ],
   "source": [
    "print('test_sub2, bootstrap\\nauc-se-sp')\n",
    "cical(auc_box_sub2)\n",
    "cical(se_box_sub2)\n",
    "cical(sp_box_sub2)"
   ]
  },
  {
   "cell_type": "markdown",
   "metadata": {},
   "source": [
    "### test_sub3, age<65"
   ]
  },
  {
   "cell_type": "code",
   "execution_count": 37,
   "metadata": {},
   "outputs": [
    {
     "name": "stderr",
     "output_type": "stream",
     "text": [
      "100%|██████████| 10000/10000 [10:48<00:00, 15.41it/s]\n"
     ]
    }
   ],
   "source": [
    "# set dataset and threshold\n",
    "data = test_sub3\n",
    "threshold = mean(th_box_train_sub3)\n",
    "\n",
    "# configure bootstrap\n",
    "n_iterations = 10000\n",
    "n_size = len(data)\n",
    "\n",
    "# run bootstrap\n",
    "auc_box_sub3 = []\n",
    "se_box_sub3 = []\n",
    "sp_box_sub3 = []\n",
    "\n",
    "with tqdm.tqdm(total=n_iterations) as pbar:\n",
    "    for i in range(n_iterations):\n",
    "        boot = resample(data, n_samples=n_size, replace=True, stratify=data['eGFR_ab'])\n",
    "        auc = roc_auc_score(boot['eGFR_ab'], boot['prob'])    \n",
    "        auc_box_sub3.append(auc)\n",
    "        \n",
    "        y_prob_pred = (boot['prob']>threshold).astype('int')\n",
    "        cm = confusion_matrix(boot['eGFR_ab'], y_prob_pred)\n",
    "        se = cm[1][1]/(cm[1][1]+cm[1][0])\n",
    "        sp = 1-cm[0][1]/(cm[0][1]+cm[0][0])\n",
    "        se_box_sub3.append(se)\n",
    "        sp_box_sub3.append(sp)\n",
    "        \n",
    "        pbar.update()"
   ]
  },
  {
   "cell_type": "code",
   "execution_count": 38,
   "metadata": {},
   "outputs": [
    {
     "name": "stdout",
     "output_type": "stream",
     "text": [
      "test_sub3, bootstrap\n",
      "auc-se-sp\n",
      "mean(ci): 0.88 (0.87-0.89), median:0.88\n",
      "mean(ci): 0.78 (0.76-0.80), median:0.78\n",
      "mean(ci): 0.81 (0.81-0.82), median:0.81\n"
     ]
    }
   ],
   "source": [
    "print('test_sub3, bootstrap\\nauc-se-sp')\n",
    "cical(auc_box_sub3)\n",
    "cical(se_box_sub3)\n",
    "cical(sp_box_sub3)"
   ]
  },
  {
   "cell_type": "markdown",
   "metadata": {},
   "source": [
    "### test_sub4, age>=65"
   ]
  },
  {
   "cell_type": "code",
   "execution_count": 39,
   "metadata": {},
   "outputs": [
    {
     "name": "stderr",
     "output_type": "stream",
     "text": [
      "100%|██████████| 10000/10000 [01:01<00:00, 162.18it/s]\n"
     ]
    }
   ],
   "source": [
    "# set dataset and threshold\n",
    "data = test_sub4\n",
    "threshold = mean(th_box_train_sub4)\n",
    "\n",
    "# configure bootstrap\n",
    "n_iterations = 10000\n",
    "n_size = len(data)\n",
    "\n",
    "# run bootstrap\n",
    "auc_box_sub4 = []\n",
    "se_box_sub4 = []\n",
    "sp_box_sub4 = []\n",
    "\n",
    "with tqdm.tqdm(total=n_iterations) as pbar:\n",
    "    for i in range(n_iterations):\n",
    "        boot = resample(data, n_samples=n_size, replace=True, stratify=data['eGFR_ab'])\n",
    "        auc = roc_auc_score(boot['eGFR_ab'], boot['prob'])    \n",
    "        auc_box_sub4.append(auc)\n",
    "        \n",
    "        y_prob_pred = (boot['prob']>threshold).astype('int')\n",
    "        cm = confusion_matrix(boot['eGFR_ab'], y_prob_pred)\n",
    "        se = cm[1][1]/(cm[1][1]+cm[1][0])\n",
    "        sp = 1-cm[0][1]/(cm[0][1]+cm[0][0])\n",
    "        se_box_sub4.append(se)\n",
    "        sp_box_sub4.append(sp)\n",
    "        \n",
    "        pbar.update()"
   ]
  },
  {
   "cell_type": "code",
   "execution_count": 40,
   "metadata": {},
   "outputs": [
    {
     "name": "stdout",
     "output_type": "stream",
     "text": [
      "test_sub4, bootstrap\n",
      "auc-se-sp\n",
      "mean(ci): 0.68 (0.66-0.71), median:0.68\n",
      "mean(ci): 0.46 (0.42-0.49), median:0.46\n",
      "mean(ci): 0.80 (0.79-0.82), median:0.80\n"
     ]
    }
   ],
   "source": [
    "print('test_sub4, bootstrap\\nauc-se-sp')\n",
    "cical(auc_box_sub4)\n",
    "cical(se_box_sub4)\n",
    "cical(sp_box_sub4)"
   ]
  },
  {
   "cell_type": "markdown",
   "metadata": {},
   "source": [
    "## External Validation"
   ]
  },
  {
   "cell_type": "code",
   "execution_count": 41,
   "metadata": {},
   "outputs": [
    {
     "name": "stdout",
     "output_type": "stream",
     "text": [
      "\n",
      "ev cases=54945, p cases=803, ratio=1.46\n",
      "(54945, 7)\n"
     ]
    },
    {
     "data": {
      "text/html": [
       "<div>\n",
       "<style scoped>\n",
       "    .dataframe tbody tr th:only-of-type {\n",
       "        vertical-align: middle;\n",
       "    }\n",
       "\n",
       "    .dataframe tbody tr th {\n",
       "        vertical-align: top;\n",
       "    }\n",
       "\n",
       "    .dataframe thead th {\n",
       "        text-align: right;\n",
       "    }\n",
       "</style>\n",
       "<table border=\"1\" class=\"dataframe\">\n",
       "  <thead>\n",
       "    <tr style=\"text-align: right;\">\n",
       "      <th></th>\n",
       "      <th>male</th>\n",
       "      <th>he_usg</th>\n",
       "      <th>he_uph</th>\n",
       "      <th>he_ubld</th>\n",
       "      <th>he_uglu</th>\n",
       "      <th>he_upro</th>\n",
       "      <th>age</th>\n",
       "    </tr>\n",
       "  </thead>\n",
       "  <tbody>\n",
       "    <tr>\n",
       "      <th>count</th>\n",
       "      <td>54945.000000</td>\n",
       "      <td>54945.000000</td>\n",
       "      <td>54945.000000</td>\n",
       "      <td>54945.000000</td>\n",
       "      <td>54945.000000</td>\n",
       "      <td>54945.000000</td>\n",
       "      <td>54945.000000</td>\n",
       "    </tr>\n",
       "    <tr>\n",
       "      <th>mean</th>\n",
       "      <td>0.453544</td>\n",
       "      <td>0.067706</td>\n",
       "      <td>-0.570889</td>\n",
       "      <td>0.557139</td>\n",
       "      <td>0.087597</td>\n",
       "      <td>0.113459</td>\n",
       "      <td>0.160051</td>\n",
       "    </tr>\n",
       "    <tr>\n",
       "      <th>std</th>\n",
       "      <td>0.497842</td>\n",
       "      <td>0.786572</td>\n",
       "      <td>0.997669</td>\n",
       "      <td>1.019046</td>\n",
       "      <td>0.524088</td>\n",
       "      <td>0.397619</td>\n",
       "      <td>1.104352</td>\n",
       "    </tr>\n",
       "    <tr>\n",
       "      <th>min</th>\n",
       "      <td>0.000000</td>\n",
       "      <td>-1.724754</td>\n",
       "      <td>-1.463852</td>\n",
       "      <td>0.000000</td>\n",
       "      <td>0.000000</td>\n",
       "      <td>0.000000</td>\n",
       "      <td>-2.049442</td>\n",
       "    </tr>\n",
       "    <tr>\n",
       "      <th>25%</th>\n",
       "      <td>0.000000</td>\n",
       "      <td>-0.472372</td>\n",
       "      <td>-1.463852</td>\n",
       "      <td>0.000000</td>\n",
       "      <td>0.000000</td>\n",
       "      <td>0.000000</td>\n",
       "      <td>-0.699858</td>\n",
       "    </tr>\n",
       "    <tr>\n",
       "      <th>50%</th>\n",
       "      <td>0.000000</td>\n",
       "      <td>0.153819</td>\n",
       "      <td>-0.852685</td>\n",
       "      <td>0.000000</td>\n",
       "      <td>0.000000</td>\n",
       "      <td>0.000000</td>\n",
       "      <td>0.173402</td>\n",
       "    </tr>\n",
       "    <tr>\n",
       "      <th>75%</th>\n",
       "      <td>1.000000</td>\n",
       "      <td>0.780010</td>\n",
       "      <td>0.369649</td>\n",
       "      <td>1.000000</td>\n",
       "      <td>0.000000</td>\n",
       "      <td>0.000000</td>\n",
       "      <td>1.046663</td>\n",
       "    </tr>\n",
       "    <tr>\n",
       "      <th>max</th>\n",
       "      <td>1.000000</td>\n",
       "      <td>1.406201</td>\n",
       "      <td>3.425483</td>\n",
       "      <td>5.000000</td>\n",
       "      <td>5.000000</td>\n",
       "      <td>5.000000</td>\n",
       "      <td>1.999311</td>\n",
       "    </tr>\n",
       "  </tbody>\n",
       "</table>\n",
       "</div>"
      ],
      "text/plain": [
       "               male        he_usg        he_uph       he_ubld       he_uglu  \\\n",
       "count  54945.000000  54945.000000  54945.000000  54945.000000  54945.000000   \n",
       "mean       0.453544      0.067706     -0.570889      0.557139      0.087597   \n",
       "std        0.497842      0.786572      0.997669      1.019046      0.524088   \n",
       "min        0.000000     -1.724754     -1.463852      0.000000      0.000000   \n",
       "25%        0.000000     -0.472372     -1.463852      0.000000      0.000000   \n",
       "50%        0.000000      0.153819     -0.852685      0.000000      0.000000   \n",
       "75%        1.000000      0.780010      0.369649      1.000000      0.000000   \n",
       "max        1.000000      1.406201      3.425483      5.000000      5.000000   \n",
       "\n",
       "            he_upro           age  \n",
       "count  54945.000000  54945.000000  \n",
       "mean       0.113459      0.160051  \n",
       "std        0.397619      1.104352  \n",
       "min        0.000000     -2.049442  \n",
       "25%        0.000000     -0.699858  \n",
       "50%        0.000000      0.173402  \n",
       "75%        0.000000      1.046663  \n",
       "max        5.000000      1.999311  "
      ]
     },
     "execution_count": 41,
     "metadata": {},
     "output_type": "execute_result"
    }
   ],
   "source": [
    "#external validation in knhanes set\n",
    "\n",
    "ev_wt = pd.read_csv(\"/home/danssa/proj_ua/data/knhanes_12y.v1.csv\").query('age>=18&age<70')\n",
    "\n",
    "ev = df_age1[(df_age1['from']==\"knhanes\") & (df_age1['age']>=18) & (df_age1['age']<80)]\n",
    "ev['eGFR_ab'] = np.where(ev['eGFR_ckd']<60,1,0)\n",
    "ev['wt'] = np.array(ev_wt['wt_12y'])\n",
    "\n",
    "y_test_ev = ev['eGFR_ab']\n",
    "print(\"\\nev cases=%d, p cases=%d, ratio=%.2f\" % (ev.shape[0], sum(y_test_ev), sum(y_test_ev)/ev.shape[0]*100))\n",
    "\n",
    "X_test_features_ev = ev.loc[:, ['male', 'he_usg', 'he_uph', 'he_ubld', 'he_uglu', 'he_upro', 'age']]\n",
    "std_df = X_test_features_ev[std_cols]\n",
    "X_test_features_ev[std_cols] = scaler.transform(std_df)\n",
    "print(X_test_features_ev.shape)\n",
    "X_test_features_ev.describe()"
   ]
  },
  {
   "cell_type": "code",
   "execution_count": 42,
   "metadata": {},
   "outputs": [],
   "source": [
    "# dataframe for bootstrap, external validation set\n",
    "y_prob_ev = model_new.predict_proba(X_test_features_ev)[:,1]\n",
    "df_test_ev = ev.copy()\n",
    "df_test_ev['prob'] = y_prob_ev\n",
    "\n",
    "test_all_ev = df_test_ev.copy()\n",
    "test_sub1_ev = df_test_ev.query('dm==1')\n",
    "test_sub2_ev = df_test_ev.query('htn==1')\n",
    "test_sub3_ev = df_test_ev.query('age<65')\n",
    "test_sub4_ev = df_test_ev.query('age>=65')"
   ]
  },
  {
   "cell_type": "code",
   "execution_count": 43,
   "metadata": {},
   "outputs": [
    {
     "name": "stdout",
     "output_type": "stream",
     "text": [
      "external validation set, knhanes\n",
      "total cases, prevalence (cases)\n",
      "all      : 32808984, 1.0 (341722)\n",
      "subgroup1: 2390898, 5.1 (122148)\n",
      "subgroup2: 6905491, 3.2 (223174)\n",
      "subgroup3: 30970242, 0.7 (217567)\n",
      "subgroup4: 1838742, 6.8 (124154)\n"
     ]
    }
   ],
   "source": [
    "print('external validation set, knhanes')\n",
    "print('total cases, prevalence (cases)')\n",
    "print('all      : %d, %.1f (%d)' % (sum(test_all_ev['wt']), sum(test_all_ev.query('eGFR_ab==1')['wt'])/sum(test_all_ev['wt'])*100, sum(test_all_ev.query('eGFR_ab==1')['wt'])))\n",
    "print('subgroup1: %d, %.1f (%d)' % (sum(test_sub1_ev['wt']), sum(test_sub1_ev.query('eGFR_ab==1')['wt'])/sum(test_sub1_ev['wt'])*100, sum(test_sub1_ev.query('eGFR_ab==1')['wt'])))\n",
    "print('subgroup2: %d, %.1f (%d)' % (sum(test_sub2_ev['wt']), sum(test_sub2_ev.query('eGFR_ab==1')['wt'])/sum(test_sub2_ev['wt'])*100, sum(test_sub2_ev.query('eGFR_ab==1')['wt'])))\n",
    "print('subgroup3: %d, %.1f (%d)' % (sum(test_sub3_ev['wt']), sum(test_sub3_ev.query('eGFR_ab==1')['wt'])/sum(test_sub3_ev['wt'])*100, sum(test_sub3_ev.query('eGFR_ab==1')['wt'])))\n",
    "print('subgroup4: %d, %.1f (%d)' % (sum(test_sub4_ev['wt']), sum(test_sub4_ev.query('eGFR_ab==1')['wt'])/sum(test_sub4_ev['wt'])*100, sum(test_sub4_ev.query('eGFR_ab==1')['wt'])))"
   ]
  },
  {
   "cell_type": "markdown",
   "metadata": {},
   "source": [
    "### test_all_ev"
   ]
  },
  {
   "cell_type": "code",
   "execution_count": 44,
   "metadata": {},
   "outputs": [
    {
     "name": "stderr",
     "output_type": "stream",
     "text": [
      "100%|██████████| 10000/10000 [10:48<00:00, 15.43it/s]\n"
     ]
    }
   ],
   "source": [
    "# set dataset and threshold\n",
    "data = test_all_ev\n",
    "threshold = mean(th_box_train_all)\n",
    "\n",
    "# configure bootstrap\n",
    "n_iterations = 10000\n",
    "n_size = len(data)\n",
    "\n",
    "# run bootstrap\n",
    "auc_box_all_ev = []\n",
    "se_box_all_ev = []\n",
    "sp_box_all_ev = []\n",
    "\n",
    "with tqdm.tqdm(total=n_iterations) as pbar:\n",
    "    for i in range(n_iterations):\n",
    "        boot = resample(data, n_samples=n_size, replace=True, stratify=data['eGFR_ab'])\n",
    "        auc = roc_auc_score(boot['eGFR_ab'], boot['prob'], sample_weight=boot['wt'])    \n",
    "        auc_box_all_ev.append(auc)\n",
    "        \n",
    "        y_prob_pred = (boot['prob']>threshold).astype('int')\n",
    "        cm = confusion_matrix(boot['eGFR_ab'], y_prob_pred, sample_weight=boot['wt'])\n",
    "        se = cm[1][1]/(cm[1][1]+cm[1][0])\n",
    "        sp = 1-cm[0][1]/(cm[0][1]+cm[0][0])\n",
    "        se_box_all_ev.append(se)\n",
    "        sp_box_all_ev.append(sp)\n",
    "        \n",
    "        pbar.update()"
   ]
  },
  {
   "cell_type": "code",
   "execution_count": 45,
   "metadata": {},
   "outputs": [
    {
     "name": "stdout",
     "output_type": "stream",
     "text": [
      "test_all_ev, bootstrap\n",
      "auc-se-sp\n",
      "mean(ci): 0.90 (0.89-0.92), median:0.90\n",
      "mean(ci): 0.86 (0.83-0.89), median:0.86\n",
      "mean(ci): 0.77 (0.77-0.78), median:0.77\n"
     ]
    }
   ],
   "source": [
    "print('test_all_ev, bootstrap\\nauc-se-sp')\n",
    "cical(auc_box_all_ev)\n",
    "cical(se_box_all_ev)\n",
    "cical(sp_box_all_ev)"
   ]
  },
  {
   "cell_type": "markdown",
   "metadata": {},
   "source": [
    "### test_sub1_ev, diabetes"
   ]
  },
  {
   "cell_type": "code",
   "execution_count": 46,
   "metadata": {},
   "outputs": [
    {
     "name": "stderr",
     "output_type": "stream",
     "text": [
      "100%|██████████| 10000/10000 [01:12<00:00, 138.60it/s]\n"
     ]
    }
   ],
   "source": [
    "# set dataset and threshold\n",
    "data = test_sub1_ev\n",
    "threshold = mean(th_box_train_sub1)\n",
    "\n",
    "# configure bootstrap\n",
    "n_iterations = 10000\n",
    "n_size = len(data)\n",
    "\n",
    "# run bootstrap\n",
    "auc_box_sub1_ev = []\n",
    "se_box_sub1_ev = []\n",
    "sp_box_sub1_ev = []\n",
    "\n",
    "with tqdm.tqdm(total=n_iterations) as pbar:\n",
    "    for i in range(n_iterations):\n",
    "        boot = resample(data, n_samples=n_size, replace=True, stratify=data['eGFR_ab'])\n",
    "        auc = roc_auc_score(boot['eGFR_ab'], boot['prob'], sample_weight=boot['wt'])    \n",
    "        auc_box_sub1_ev.append(auc)\n",
    "        \n",
    "        y_prob_pred = (boot['prob']>threshold).astype('int')\n",
    "        cm = confusion_matrix(boot['eGFR_ab'], y_prob_pred, sample_weight=boot['wt'])\n",
    "        se = cm[1][1]/(cm[1][1]+cm[1][0])\n",
    "        sp = 1-cm[0][1]/(cm[0][1]+cm[0][0])\n",
    "        se_box_sub1_ev.append(se)\n",
    "        sp_box_sub1_ev.append(sp)\n",
    "        \n",
    "        pbar.update()"
   ]
  },
  {
   "cell_type": "code",
   "execution_count": 47,
   "metadata": {},
   "outputs": [
    {
     "name": "stdout",
     "output_type": "stream",
     "text": [
      "test_sub1_ev, bootstrap\n",
      "auc-se-sp\n",
      "mean(ci): 0.79 (0.76-0.82), median:0.79\n",
      "mean(ci): 0.67 (0.60-0.73), median:0.67\n",
      "mean(ci): 0.75 (0.74-0.76), median:0.75\n"
     ]
    }
   ],
   "source": [
    "print('test_sub1_ev, bootstrap\\nauc-se-sp')\n",
    "cical(auc_box_sub1_ev)\n",
    "cical(se_box_sub1_ev)\n",
    "cical(sp_box_sub1_ev)"
   ]
  },
  {
   "cell_type": "markdown",
   "metadata": {},
   "source": [
    "### test_sub2_ev, hypertension"
   ]
  },
  {
   "cell_type": "code",
   "execution_count": 48,
   "metadata": {},
   "outputs": [
    {
     "name": "stderr",
     "output_type": "stream",
     "text": [
      "100%|██████████| 10000/10000 [02:43<00:00, 61.21it/s]\n"
     ]
    }
   ],
   "source": [
    "# set dataset and threshold\n",
    "data = test_sub2_ev\n",
    "threshold = mean(th_box_train_sub2)\n",
    "\n",
    "# configure bootstrap\n",
    "n_iterations = 10000\n",
    "n_size = len(data)\n",
    "\n",
    "# run bootstrap\n",
    "auc_box_sub2_ev = []\n",
    "se_box_sub2_ev = []\n",
    "sp_box_sub2_ev = []\n",
    "\n",
    "with tqdm.tqdm(total=n_iterations) as pbar:\n",
    "    for i in range(n_iterations):\n",
    "        boot = resample(data, n_samples=n_size, replace=True, stratify=data['eGFR_ab'])\n",
    "        auc = roc_auc_score(boot['eGFR_ab'], boot['prob'], sample_weight=boot['wt'])    \n",
    "        auc_box_sub2_ev.append(auc)\n",
    "        \n",
    "        y_prob_pred = (boot['prob']>threshold).astype('int')\n",
    "        cm = confusion_matrix(boot['eGFR_ab'], y_prob_pred, sample_weight=boot['wt'])\n",
    "        se = cm[1][1]/(cm[1][1]+cm[1][0])\n",
    "        sp = 1-cm[0][1]/(cm[0][1]+cm[0][0])\n",
    "        se_box_sub2_ev.append(se)\n",
    "        sp_box_sub2_ev.append(sp)\n",
    "        \n",
    "        pbar.update()"
   ]
  },
  {
   "cell_type": "code",
   "execution_count": 49,
   "metadata": {},
   "outputs": [
    {
     "name": "stdout",
     "output_type": "stream",
     "text": [
      "test_sub2_ev, bootstrap\n",
      "auc-se-sp\n",
      "mean(ci): 0.83 (0.81-0.85), median:0.83\n",
      "mean(ci): 0.81 (0.76-0.85), median:0.81\n",
      "mean(ci): 0.68 (0.67-0.69), median:0.68\n"
     ]
    }
   ],
   "source": [
    "print('test_sub2_ev, bootstrap\\nauc-se-sp')\n",
    "cical(auc_box_sub2_ev)\n",
    "cical(se_box_sub2_ev)\n",
    "cical(sp_box_sub2_ev)"
   ]
  },
  {
   "cell_type": "markdown",
   "metadata": {},
   "source": [
    "### test_sub3_ev, age<65"
   ]
  },
  {
   "cell_type": "code",
   "execution_count": 50,
   "metadata": {},
   "outputs": [
    {
     "name": "stderr",
     "output_type": "stream",
     "text": [
      "100%|██████████| 10000/10000 [09:45<00:00, 17.09it/s]\n"
     ]
    }
   ],
   "source": [
    "# set dataset and threshold\n",
    "data = test_sub3_ev\n",
    "threshold = mean(th_box_train_sub3)\n",
    "\n",
    "# configure bootstrap\n",
    "n_iterations = 10000\n",
    "n_size = len(data)\n",
    "\n",
    "# run bootstrap\n",
    "auc_box_sub3_ev = []\n",
    "se_box_sub3_ev = []\n",
    "sp_box_sub3_ev = []\n",
    "\n",
    "with tqdm.tqdm(total=n_iterations) as pbar:\n",
    "    for i in range(n_iterations):\n",
    "        boot = resample(data, n_samples=n_size, replace=True, stratify=data['eGFR_ab'])\n",
    "        auc = roc_auc_score(boot['eGFR_ab'], boot['prob'], sample_weight=boot['wt'])    \n",
    "        auc_box_sub3_ev.append(auc)\n",
    "        \n",
    "        y_prob_pred = (boot['prob']>threshold).astype('int')\n",
    "        cm = confusion_matrix(boot['eGFR_ab'], y_prob_pred, sample_weight=boot['wt'])\n",
    "        se = cm[1][1]/(cm[1][1]+cm[1][0])\n",
    "        sp = 1-cm[0][1]/(cm[0][1]+cm[0][0])\n",
    "        se_box_sub3_ev.append(se)\n",
    "        sp_box_sub3_ev.append(sp)\n",
    "        \n",
    "        pbar.update()"
   ]
  },
  {
   "cell_type": "code",
   "execution_count": 51,
   "metadata": {},
   "outputs": [
    {
     "name": "stdout",
     "output_type": "stream",
     "text": [
      "test_sub3_ev, bootstrap\n",
      "auc-se-sp\n",
      "mean(ci): 0.90 (0.88-0.91), median:0.90\n",
      "mean(ci): 0.83 (0.78-0.87), median:0.83\n",
      "mean(ci): 0.77 (0.76-0.77), median:0.77\n"
     ]
    }
   ],
   "source": [
    "print('test_sub3_ev, bootstrap\\nauc-se-sp')\n",
    "cical(auc_box_sub3_ev)\n",
    "cical(se_box_sub3_ev)\n",
    "cical(sp_box_sub3_ev)"
   ]
  },
  {
   "cell_type": "markdown",
   "metadata": {},
   "source": [
    "### test_sub4_ev, age>=65"
   ]
  },
  {
   "cell_type": "code",
   "execution_count": 52,
   "metadata": {},
   "outputs": [
    {
     "name": "stderr",
     "output_type": "stream",
     "text": [
      "100%|██████████| 10000/10000 [01:19<00:00, 125.98it/s]\n"
     ]
    }
   ],
   "source": [
    "# set dataset and threshold\n",
    "data = test_sub4_ev\n",
    "threshold = mean(th_box_train_sub4)\n",
    "\n",
    "# configure bootstrap\n",
    "n_iterations = 10000\n",
    "n_size = len(data)\n",
    "\n",
    "# run bootstrap\n",
    "auc_box_sub4_ev = []\n",
    "se_box_sub4_ev = []\n",
    "sp_box_sub4_ev = []\n",
    "\n",
    "with tqdm.tqdm(total=n_iterations) as pbar:\n",
    "    for i in range(n_iterations):\n",
    "        boot = resample(data, n_samples=n_size, replace=True, stratify=data['eGFR_ab'])\n",
    "        auc = roc_auc_score(boot['eGFR_ab'], boot['prob'], sample_weight=boot['wt'])    \n",
    "        auc_box_sub4_ev.append(auc)\n",
    "        \n",
    "        y_prob_pred = (boot['prob']>threshold).astype('int')\n",
    "        cm = confusion_matrix(boot['eGFR_ab'], y_prob_pred, sample_weight=boot['wt'])\n",
    "        se = cm[1][1]/(cm[1][1]+cm[1][0])\n",
    "        sp = 1-cm[0][1]/(cm[0][1]+cm[0][0])\n",
    "        se_box_sub4_ev.append(se)\n",
    "        sp_box_sub4_ev.append(sp)\n",
    "        \n",
    "        pbar.update()"
   ]
  },
  {
   "cell_type": "code",
   "execution_count": 53,
   "metadata": {},
   "outputs": [
    {
     "name": "stdout",
     "output_type": "stream",
     "text": [
      "test_sub4_ev, bootstrap\n",
      "auc-se-sp\n",
      "mean(ci): 0.63 (0.60-0.67), median:0.63\n",
      "mean(ci): 0.51 (0.45-0.57), median:0.51\n",
      "mean(ci): 0.66 (0.65-0.68), median:0.66\n"
     ]
    }
   ],
   "source": [
    "print('test_sub4_ev, bootstrap\\nauc-se-sp')\n",
    "cical(auc_box_sub4_ev)\n",
    "cical(se_box_sub4_ev)\n",
    "cical(sp_box_sub4_ev)"
   ]
  },
  {
   "cell_type": "markdown",
   "metadata": {},
   "source": [
    "## ROC curve, internal and external set"
   ]
  },
  {
   "cell_type": "code",
   "execution_count": 54,
   "metadata": {},
   "outputs": [],
   "source": [
    "#function of finding the index nearest train mean threshold\n",
    "def find_nearest(array, value):\n",
    "    array = np.asarray(array)\n",
    "    idx = (np.abs(array - value)).argmin()\n",
    "    return array[idx], idx"
   ]
  },
  {
   "cell_type": "markdown",
   "metadata": {},
   "source": [
    "### internal, all"
   ]
  },
  {
   "cell_type": "code",
   "execution_count": 55,
   "metadata": {},
   "outputs": [
    {
     "name": "stdout",
     "output_type": "stream",
     "text": [
      "eGFR60 model\n",
      "\n",
      "Classification Report\n",
      "\n",
      "Best Threshold=0.296, sensitivity = 0.85, specificity = 0.77, J=0.619\n",
      "              precision    recall  f1-score   support\n",
      "\n",
      "      normal       0.99      0.77      0.87     57038\n",
      "    abnormal       0.12      0.85      0.21      2142\n",
      "\n",
      "    accuracy                           0.77     59180\n",
      "   macro avg       0.56      0.81      0.54     59180\n",
      "weighted avg       0.96      0.77      0.84     59180\n",
      "\n"
     ]
    },
    {
     "data": {
      "image/png": "[encoded data removed]",
      "text/plain": [
       "<Figure size 432x432 with 1 Axes>"
      ]
     },
     "metadata": {
      "needs_background": "light"
     },
     "output_type": "display_data"
    }
   ],
   "source": [
    "#Youden’s J statistic. / J = Sensitivity + Specificity – 1\n",
    "y_prob = df_test['prob']\n",
    "y_test = df_test['eGFR_ab']\n",
    "# calculate roc curves\n",
    "fpr, tpr, thresholds = roc_curve(y_test, y_prob)\n",
    "# get the best threshold\n",
    "J = tpr - fpr\n",
    "ix = argmax(J)\n",
    "best_thresh = thresholds[ix]\n",
    "# obtain the nearest train best threshold\n",
    "n_th_test_all, idx = find_nearest(thresholds, mean(th_box_train_all))\n",
    "\n",
    "print('eGFR60 model')\n",
    "print('\\nClassification Report\\n')\n",
    "print('Best Threshold=%.3f, sensitivity = %.2f, specificity = %.2f, J=%.3f' % (best_thresh, tpr[ix], 1-fpr[ix], J[ix]))\n",
    "\n",
    "y_prob_pred = (y_prob > best_thresh).astype(bool)\n",
    "print(classification_report(y_test, y_prob_pred, target_names=['normal', 'abnormal']))\n",
    "\n",
    "#plot roc and best threshold\n",
    "sens, spec = tpr[ix], 1-fpr[ix]\n",
    "n_sens, n_spec = tpr[idx], 1-fpr[idx]\n",
    "\n",
    "# plot the roc curve for the model\n",
    "plt.rcParams[\"figure.figsize\"] = (6,6)\n",
    "plt.rcParams[\"font.size\"] = 12\n",
    "plt.plot([0,1], [0,1], linestyle='--', markersize=0.01, color='black')\n",
    "plt.plot(fpr, tpr, marker='.', color='black', markersize=0.05, label=\"AUC = %.2f\" % roc_auc_score(y_test, y_prob))\n",
    "plt.scatter(fpr[ix], tpr[ix], marker='o', s=50, color='k', \n",
    "            label='Best threshold = %.2f \\nSensitivity = %.2f \\nSpecificity = %.2f' % (best_thresh, sens, spec))\n",
    "plt.scatter(fpr[idx], tpr[idx], marker='o', s=50, color='silver', \n",
    "            label='Train threshold = %.2f \\nSensitivity = %.2f \\nSpecificity = %.2f' % (n_th_test_all, n_sens, n_spec))\n",
    "\n",
    "# axis labels\n",
    "plt.xlabel('False Positive Rate')\n",
    "plt.ylabel('True Positive Rate')\n",
    "plt.legend(loc=4)\n",
    "\n",
    "# show the plot\n",
    "plt.show()"
   ]
  },
  {
   "cell_type": "markdown",
   "metadata": {},
   "source": [
    "### external, all"
   ]
  },
  {
   "cell_type": "code",
   "execution_count": 56,
   "metadata": {},
   "outputs": [
    {
     "name": "stdout",
     "output_type": "stream",
     "text": [
      "eGFR60 model, knhanes, external validation\n",
      "\n",
      "Classification Report\n",
      "\n",
      "Best Threshold=0.407, sensitivity = 0.82, specificity = 0.83, J=0.656\n",
      "              precision    recall  f1-score   support\n",
      "\n",
      "      normal       1.00      0.84      0.91 32467262.433003858\n",
      "    abnormal       0.05      0.82      0.09 341722.349350576\n",
      "\n",
      "    accuracy                           0.83 32808984.782354433\n",
      "   macro avg       0.52      0.83      0.50 32808984.782354433\n",
      "weighted avg       0.99      0.83      0.90 32808984.782354433\n",
      "\n"
     ]
    },
    {
     "data": {
      "image/png": "[encoded data removed]",
      "text/plain": [
       "<Figure size 432x432 with 1 Axes>"
      ]
     },
     "metadata": {
      "needs_background": "light"
     },
     "output_type": "display_data"
    }
   ],
   "source": [
    "# external validation \n",
    "\n",
    "# Youden’s J statistic. / J = Sensitivity + Specificity – 1\n",
    "y_prob_ev = df_test_ev['prob']\n",
    "# calculate roc curves\n",
    "fpr_ev, tpr_ev, thresholds_ev = roc_curve(y_test_ev, y_prob_ev, sample_weight=ev['wt'])\n",
    "# get the best threshold\n",
    "J_ev = tpr_ev - fpr_ev\n",
    "ix_ev = argmax(J_ev)\n",
    "best_thresh_ev = thresholds_ev[ix_ev]\n",
    "# obtain the nearest train best threshold\n",
    "n_th_test_all_ev, idx_ev = find_nearest(thresholds_ev, mean(th_box_train_all))\n",
    "\n",
    "print('eGFR60 model, knhanes, external validation')\n",
    "print('\\nClassification Report\\n')\n",
    "print('Best Threshold=%.3f, sensitivity = %.2f, specificity = %.2f, J=%.3f' % (best_thresh_ev, tpr_ev[ix_ev], 1-fpr_ev[ix_ev], J_ev[ix_ev]))\n",
    "\n",
    "y_prob_pred_ev = (y_prob_ev > best_thresh_ev).astype(bool)\n",
    "print(classification_report(y_test_ev, y_prob_pred_ev, target_names=['normal', 'abnormal'], sample_weight=ev['wt']))\n",
    "\n",
    "#plot roc and best threshold\n",
    "sens_ev, spec_ev = tpr_ev[ix_ev], 1-fpr_ev[ix_ev]\n",
    "n_sens_ev, n_spec_ev = tpr[idx_ev], 1-fpr[idx_ev]\n",
    "\n",
    "# plot the roc curve for the model\n",
    "#plt.rcParams[\"figure.figsize\"] = (10,10)\n",
    "plt.plot([0,1], [0,1], linestyle='--', markersize=0.01, color='black')\n",
    "plt.plot(fpr_ev, tpr_ev, marker='.', color='black', markersize=0.05, label=\"AUC = %.2f\" % roc_auc_score(y_test_ev, y_prob_ev, sample_weight=ev['wt']))\n",
    "plt.scatter(fpr_ev[ix_ev], tpr_ev[ix_ev], marker='o', s=50, color='k', \n",
    "            label='Best threshold = %.2f \\nSensitivity = %.2f \\nSpecificity = %.2f' % (best_thresh_ev, sens_ev, spec_ev))\n",
    "plt.scatter(fpr_ev[idx_ev], tpr_ev[idx_ev], marker='o', s=50, color='silver', \n",
    "            label='Train threshold = %.2f \\nSensitivity = %.2f \\nSpecificity = %.2f' % (n_th_test_all_ev, n_sens_ev, n_spec_ev))\n",
    "\n",
    "# axis labels\n",
    "plt.xlabel('False Positive Rate')\n",
    "plt.ylabel('True Positive Rate')\n",
    "plt.legend(loc=4)\n",
    "\n",
    "# show the plot\n",
    "plt.show()"
   ]
  },
  {
   "cell_type": "markdown",
   "metadata": {},
   "source": [
    "### both internal and external"
   ]
  },
  {
   "cell_type": "code",
   "execution_count": 57,
   "metadata": {},
   "outputs": [
    {
     "data": {
      "image/png": "[encoded data removed]",
      "text/plain": [
       "<Figure size 576x576 with 1 Axes>"
      ]
     },
     "metadata": {
      "needs_background": "light"
     },
     "output_type": "display_data"
    }
   ],
   "source": [
    "# plot the roc curve for the model\n",
    "plt.rcParams[\"figure.figsize\"] = (8,8)\n",
    "plt.plot([0,1], [0,1], linestyle='--', markersize=0.01, color='black')\n",
    "\n",
    "plt.plot(fpr, tpr, marker='.', color='black', markersize=0.05, label=\"AUC(internal) = %.2f\" % roc_auc_score(y_test, y_prob))\n",
    "plt.scatter(1-mean(sp_box_all), mean(se_box_all), marker='o', s=50, color='k'\n",
    "            , label='Threshold (internal)' \n",
    "            #% (best_thresh)\n",
    "           )\n",
    "\n",
    "plt.plot(fpr_ev, tpr_ev, marker='.', color='grey', markersize=0.05, label=\"AUC(external) = %.2f\" % roc_auc_score(y_test_ev, y_prob_ev, sample_weight=ev['wt']))\n",
    "plt.scatter(1-mean(sp_box_all_ev), mean(se_box_all_ev), marker='o', s=50, color='grey'\n",
    "            , label='Threshold (external)' \n",
    "            #% (best_thresh_ev)\n",
    "           )\n",
    "\n",
    "# axis labels\n",
    "plt.xlabel('False Positive Rate', fontsize=25)\n",
    "plt.ylabel('True Positive Rate', fontsize=25)\n",
    "plt.legend(loc=4, fontsize=18)\n",
    "plt.title('eGFR60 model ROC', size=32, pad=20)\n",
    "# show the plot\n",
    "#plt.show()\n",
    "\n",
    "plt.grid(axis='y')\n",
    "#plt.ylim(1.0)\n",
    "# save as png\n",
    "#plt.savefig('/home/danssa/proj_ua/images/5sub/60model_roc.png', dpi=300)"
   ]
  },
  {
   "cell_type": "markdown",
   "metadata": {},
   "source": [
    "### sub4, age>=65"
   ]
  },
  {
   "cell_type": "code",
   "execution_count": 58,
   "metadata": {},
   "outputs": [
    {
     "name": "stdout",
     "output_type": "stream",
     "text": [
      "eGFR60 model\n",
      "\n",
      "Classification Report\n",
      "\n",
      "Best Threshold=0.708, sensitivity = 0.54, specificity = 0.74, J=0.280\n",
      "              precision    recall  f1-score   support\n",
      "\n",
      "      normal       0.88      0.74      0.80      3131\n",
      "    abnormal       0.30      0.54      0.39       668\n",
      "\n",
      "    accuracy                           0.70      3799\n",
      "   macro avg       0.59      0.64      0.60      3799\n",
      "weighted avg       0.78      0.70      0.73      3799\n",
      "\n"
     ]
    },
    {
     "data": {
      "image/png": "[encoded data removed]",
      "text/plain": [
       "<Figure size 432x432 with 1 Axes>"
      ]
     },
     "metadata": {
      "needs_background": "light"
     },
     "output_type": "display_data"
    }
   ],
   "source": [
    "#Youden’s J statistic. / J = Sensitivity + Specificity – 1\n",
    "y_prob = test_sub4['prob']\n",
    "y_test = test_sub4['eGFR_ab']\n",
    "# calculate roc curves\n",
    "fpr, tpr, thresholds = roc_curve(y_test, y_prob)\n",
    "# get the best threshold\n",
    "J = tpr - fpr\n",
    "ix = argmax(J)\n",
    "best_thresh = thresholds[ix]\n",
    "# obtain the nearest train best threshold\n",
    "n_th_test_sub4, idx = find_nearest(thresholds, mean(th_box_train_sub4))\n",
    "\n",
    "print('eGFR60 model')\n",
    "print('\\nClassification Report\\n')\n",
    "print('Best Threshold=%.3f, sensitivity = %.2f, specificity = %.2f, J=%.3f' % (best_thresh, tpr[ix], 1-fpr[ix], J[ix]))\n",
    "\n",
    "y_prob_pred = (y_prob > best_thresh).astype(bool)\n",
    "print(classification_report(y_test, y_prob_pred, target_names=['normal', 'abnormal']))\n",
    "\n",
    "#plot roc and best threshold\n",
    "sens, spec = tpr[ix], 1-fpr[ix]\n",
    "n_sens, n_spec = tpr[idx], 1-fpr[idx]\n",
    "\n",
    "# plot the roc curve for the model\n",
    "plt.rcParams[\"figure.figsize\"] = (6,6)\n",
    "plt.rcParams[\"font.size\"] = 12\n",
    "plt.plot([0,1], [0,1], linestyle='--', markersize=0.01, color='black')\n",
    "plt.plot(fpr, tpr, marker='.', color='black', markersize=0.05, label=\"AUC = %.2f\" % roc_auc_score(y_test, y_prob))\n",
    "#plt.scatter(fpr[ix], tpr[ix], marker='o', s=50, color='k', \n",
    "#            label='Best threshold = %.2f \\nSensitivity = %.2f \\nSpecificity = %.2f' % (best_thresh, sens, spec))\n",
    "plt.scatter(fpr[idx], tpr[idx], marker='o', s=50, color='silver', \n",
    "            label='Train threshold = %.2f \\nSensitivity = %.2f \\nSpecificity = %.2f' % (n_th_test_sub4, n_sens, n_spec))\n",
    "\n",
    "# axis labels\n",
    "plt.xlabel('False Positive Rate')\n",
    "plt.ylabel('True Positive Rate')\n",
    "plt.legend(loc=4)\n",
    "\n",
    "# show the plot\n",
    "plt.show()"
   ]
  }
 ],
 "metadata": {
  "interpreter": {
   "hash": "d5e788db9103e8245d4b3c354abf60eb892987d375adf6f7d27608ea7f8c469c"
  },
  "kernelspec": {
   "display_name": "xgb_tpot",
   "language": "python",
   "name": "xgb_tpot"
  },
  "language_info": {
   "codemirror_mode": {
    "name": "ipython",
    "version": 3
   },
   "file_extension": ".py",
   "mimetype": "text/x-python",
   "name": "python",
   "nbconvert_exporter": "python",
   "pygments_lexer": "ipython3",
   "version": "3.8.5"
  }
 },
 "nbformat": 4,
 "nbformat_minor": 4
}

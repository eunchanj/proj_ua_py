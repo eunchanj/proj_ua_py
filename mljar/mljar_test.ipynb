{
 "cells": [
  {
   "cell_type": "code",
   "execution_count": 1,
   "metadata": {},
   "outputs": [
    {
     "ename": "RuntimeError",
     "evalue": "module compiled against API version 0xe but this version of numpy is 0xd",
     "output_type": "error",
     "traceback": [
      "\u001b[0;31m---------------------------------------------------------------------------\u001b[0m",
      "\u001b[0;31mRuntimeError\u001b[0m                              Traceback (most recent call last)",
      "\u001b[0;31mRuntimeError\u001b[0m: module compiled against API version 0xe but this version of numpy is 0xd"
     ]
    }
   ],
   "source": [
    "# -*- coding: utf-8 -*-\n",
    "\"\"\"\n",
    "Created on Sun Apr  4 08:59:33 2021\n",
    "\n",
    "@author: forustous\n",
    "\"\"\"\n",
    "#%%\n",
    "SEED = 0\n",
    "\n",
    "import numpy as np\n",
    "import pandas as pd\n",
    "\n",
    "from sklearn.model_selection import train_test_split\n",
    "from supervised.automl import AutoML\n",
    "from sklearn.utils.class_weight import compute_sample_weight"
   ]
  },
  {
   "cell_type": "code",
   "execution_count": 2,
   "metadata": {},
   "outputs": [],
   "source": [
    "df=pd.read_csv(\"/home/danssa/proj_ua/data/60model_train_share.csv\")\n",
    "\n",
    "X_train = df.drop('eGFR_ab', axis=1)\n",
    "y_train = df['eGFR_ab'].astype(\"int64\")\n",
    "\n",
    "weights = compute_sample_weight(class_weight=\"balanced\", y=y_train)"
   ]
  },
  {
   "cell_type": "code",
   "execution_count": 11,
   "metadata": {},
   "outputs": [
    {
     "name": "stdout",
     "output_type": "stream",
     "text": [
      "This model has already been fitted. You can use predict methods or select a new 'results_path' for a new 'fit()'.\n"
     ]
    }
   ],
   "source": [
    "#%% \n",
    "# optuna\n",
    "\n",
    "automl = AutoML(mode=\"Optuna\", ml_task=\"binary_classification\", \n",
    "    algorithms=[\"CatBoost\"], eval_metric='auc',\n",
    "    optuna_time_budget=10*60,\n",
    "    total_time_limit = 24*3600,\n",
    "    golden_features = False, \n",
    "    features_selection = False,\n",
    "    train_ensemble= True,\n",
    "    stack_models = 'auto',\n",
    "    random_state=SEED, results_path=\"optuna\")\n",
    "\n",
    "automl.fit(X_train, y_train, weights)"
   ]
  },
  {
   "cell_type": "code",
   "execution_count": 6,
   "metadata": {},
   "outputs": [
    {
     "data": {
      "text/html": [
       "\n",
       "        <iframe\n",
       "            width=\"900\"\n",
       "            height=\"1200\"\n",
       "            src=\"optuna/README.html\"\n",
       "            frameborder=\"0\"\n",
       "            allowfullscreen\n",
       "        ></iframe>\n",
       "        "
      ],
      "text/plain": [
       "<IPython.lib.display.IFrame at 0x7f1d1cbaddc0>"
      ]
     },
     "execution_count": 6,
     "metadata": {},
     "output_type": "execute_result"
    }
   ],
   "source": [
    "automl.report()"
   ]
  },
  {
   "cell_type": "code",
   "execution_count": 7,
   "metadata": {},
   "outputs": [
    {
     "name": "stdout",
     "output_type": "stream",
     "text": [
      "AutoML directory: explain-wt\n",
      "The task is binary_classification with evaluation metric auc\n",
      "AutoML will use algorithms: ['Baseline', 'CatBoost', 'Xgboost', 'Random Forest', 'Extra Trees', 'LightGBM', 'Neural Network']\n",
      "AutoML steps: ['simple_algorithms', 'default_algorithms']\n",
      "* Step simple_algorithms will try to check up to 1 model\n",
      "1_Baseline auc 0.5 trained in 0.59 seconds\n",
      "* Step default_algorithms will try to check up to 6 models\n",
      "C extension was not built during install!\n",
      "2_Default_LightGBM auc 0.923095 trained in 166.17 seconds\n",
      "C extension was not built during install!\n",
      "Exception while producing SHAP explanations. numpy.core.multiarray failed to import\n",
      "Continuing ...\n",
      "3_Default_Xgboost auc 0.923605 trained in 18.65 seconds\n",
      "4_Default_CatBoost auc 0.924505 trained in 19.16 seconds\n",
      "5_Default_NeuralNetwork auc 0.919984 trained in 47.91 seconds\n",
      "C extension was not built during install!\n",
      "Exception while producing SHAP explanations. numpy.core.multiarray failed to import\n",
      "Continuing ...\n",
      "6_Default_RandomForest auc 0.909464 trained in 22.67 seconds\n",
      "C extension was not built during install!\n",
      "Exception while producing SHAP explanations. numpy.core.multiarray failed to import\n",
      "Continuing ...\n",
      "7_Default_ExtraTrees auc 0.910174 trained in 23.61 seconds\n",
      "AutoML fit time: 302.96 seconds\n",
      "AutoML best model: 4_Default_CatBoost\n"
     ]
    },
    {
     "data": {
      "text/plain": [
       "AutoML(algorithms=['Baseline', 'CatBoost', 'Xgboost', 'Random Forest',\n",
       "                   'Extra Trees', 'LightGBM', 'Neural Network'],\n",
       "       eval_metric='auc', ml_task='binary_classification', random_state=0,\n",
       "       results_path='explain-wt', train_ensemble=False)"
      ]
     },
     "execution_count": 7,
     "metadata": {},
     "output_type": "execute_result"
    }
   ],
   "source": [
    "# %%\n",
    "# explain\n",
    "\n",
    "automl = AutoML(mode=\"Explain\", ml_task=\"binary_classification\", \n",
    "    algorithms=[\"Baseline\", \"CatBoost\", \"Xgboost\", \"Random Forest\", \"Extra Trees\", \"LightGBM\", \"Neural Network\"], \n",
    "    eval_metric='auc',\n",
    "    train_ensemble= False, \n",
    "    random_state=SEED,\n",
    "    results_path=\"explain-wt\")\n",
    "\n",
    "automl.fit(X_train, y_train, weights)"
   ]
  },
  {
   "cell_type": "code",
   "execution_count": 9,
   "metadata": {},
   "outputs": [
    {
     "data": {
      "text/html": [
       "\n",
       "        <iframe\n",
       "            width=\"900\"\n",
       "            height=\"1200\"\n",
       "            src=\"explain-wt/README.html\"\n",
       "            frameborder=\"0\"\n",
       "            allowfullscreen\n",
       "        ></iframe>\n",
       "        "
      ],
      "text/plain": [
       "<IPython.lib.display.IFrame at 0x7f1cd336db20>"
      ]
     },
     "execution_count": 9,
     "metadata": {},
     "output_type": "execute_result"
    }
   ],
   "source": [
    "automl.report()"
   ]
  },
  {
   "cell_type": "code",
   "execution_count": 10,
   "metadata": {},
   "outputs": [
    {
     "name": "stdout",
     "output_type": "stream",
     "text": [
      "AutoML directory: perform\n",
      "The task is binary_classification with evaluation metric auc\n",
      "AutoML will use algorithms: ['CatBoost', 'Xgboost']\n",
      "AutoML steps: ['simple_algorithms', 'default_algorithms', 'not_so_random', 'hill_climbing_1', 'hill_climbing_2']\n",
      "Skip simple_algorithms because no parameters were generated.\n",
      "* Step default_algorithms will try to check up to 2 models\n",
      "1_Default_Xgboost auc 0.923201 trained in 100.16 seconds (1-sample predict time 0.0381 seconds)\n",
      "2_Default_CatBoost auc 0.923681 trained in 85.53 seconds (1-sample predict time 0.0638 seconds)\n",
      "* Step not_so_random will try to check up to 8 models\n",
      "3_Xgboost auc 0.922543 trained in 71.28 seconds (1-sample predict time 0.0377 seconds)\n",
      "7_CatBoost auc 0.922913 trained in 62.75 seconds (1-sample predict time 0.0612 seconds)\n",
      "4_Xgboost auc 0.921557 trained in 75.29 seconds (1-sample predict time 0.0388 seconds)\n",
      "8_CatBoost auc 0.923144 trained in 69.6 seconds (1-sample predict time 0.048 seconds)\n",
      "5_Xgboost auc 0.923039 trained in 72.63 seconds (1-sample predict time 0.0459 seconds)\n",
      "9_CatBoost auc 0.923368 trained in 65.31 seconds (1-sample predict time 0.047 seconds)\n",
      "6_Xgboost auc 0.923191 trained in 102.82 seconds (1-sample predict time 0.045 seconds)\n",
      "10_CatBoost auc 0.923672 trained in 142.86 seconds (1-sample predict time 0.0671 seconds)\n",
      "* Step hill_climbing_1 will try to check up to 6 models\n",
      "11_CatBoost auc 0.92335 trained in 83.12 seconds (1-sample predict time 0.0481 seconds)\n",
      "12_CatBoost auc 0.923579 trained in 135.51 seconds (1-sample predict time 0.0474 seconds)\n",
      "13_Xgboost auc 0.92282 trained in 93.85 seconds (1-sample predict time 0.0472 seconds)\n",
      "14_Xgboost auc 0.922573 trained in 83.17 seconds (1-sample predict time 0.0419 seconds)\n",
      "15_Xgboost auc 0.923452 trained in 98.79 seconds (1-sample predict time 0.048 seconds)\n",
      "16_Xgboost auc 0.922764 trained in 92.19 seconds (1-sample predict time 0.0381 seconds)\n",
      "* Step hill_climbing_2 will try to check up to 4 models\n",
      "17_CatBoost auc 0.923716 trained in 113.11 seconds (1-sample predict time 0.0672 seconds)\n",
      "18_CatBoost auc 0.923149 trained in 63.69 seconds (1-sample predict time 0.0494 seconds)\n",
      "19_CatBoost auc 0.923463 trained in 90.69 seconds (1-sample predict time 0.0612 seconds)\n",
      "20_Xgboost auc 0.923612 trained in 108.76 seconds (1-sample predict time 0.0433 seconds)\n",
      "AutoML fit time: 1818.31 seconds\n",
      "AutoML best model: 17_CatBoost\n"
     ]
    },
    {
     "data": {
      "text/plain": [
       "AutoML(algorithms=['CatBoost', 'Xgboost'], eval_metric='auc',\n",
       "       features_selection=False, golden_features=False,\n",
       "       ml_task='binary_classification', mode='Perform', random_state=0,\n",
       "       results_path='perform', stack_models=False, train_ensemble=False)"
      ]
     },
     "execution_count": 10,
     "metadata": {},
     "output_type": "execute_result"
    }
   ],
   "source": [
    "# %%\n",
    "# Perform\n",
    "\n",
    "automl = AutoML(mode=\"Perform\", ml_task=\"binary_classification\", \n",
    "    algorithms=[\"CatBoost\", \"Xgboost\"], \n",
    "    eval_metric='auc',\n",
    "    golden_features=False,\n",
    "    features_selection=False,\n",
    "    train_ensemble = False,\n",
    "    stack_models = False, \n",
    "    random_state=SEED,\n",
    "    results_path=\"perform\")\n",
    "\n",
    "automl.fit(X_train, y_train, weights)\n",
    "\n",
    "# %%"
   ]
  }
 ],
 "metadata": {
  "kernelspec": {
   "display_name": "mljar",
   "language": "python",
   "name": "mljar"
  },
  "language_info": {
   "codemirror_mode": {
    "name": "ipython",
    "version": 3
   },
   "file_extension": ".py",
   "mimetype": "text/x-python",
   "name": "python",
   "nbconvert_exporter": "python",
   "pygments_lexer": "ipython3",
   "version": "3.9.2"
  }
 },
 "nbformat": 4,
 "nbformat_minor": 4
}

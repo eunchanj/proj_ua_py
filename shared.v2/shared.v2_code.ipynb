{
 "cells": [
  {
   "cell_type": "code",
   "execution_count": 1,
   "metadata": {},
   "outputs": [
    {
     "name": "stdout",
     "output_type": "stream",
     "text": [
      "python version\n",
      "3.8.5 (default, Sep  4 2020, 07:30:14) \n",
      "[GCC 7.3.0]\n",
      "sklearn version =  0.23.2\n",
      "numpy version =  1.19.2\n",
      "pandas version = 1.2.3\n"
     ]
    }
   ],
   "source": [
    "# tools\n",
    "import numpy as np\n",
    "import pandas as pd\n",
    "from xgboost import XGBClassifier\n",
    "from matplotlib import pyplot as plt\n",
    "from numpy import sqrt\n",
    "from numpy import argmax\n",
    "import joblib\n",
    "\n",
    "from sklearn.preprocessing import StandardScaler\n",
    "from sklearn.metrics import roc_curve\n",
    "from sklearn.metrics import classification_report\n",
    "from sklearn.metrics import roc_auc_score\n",
    "import sklearn.metrics as metrics\n",
    "from sklearn.metrics import plot_roc_curve\n",
    "from sklearn.calibration import CalibratedClassifierCV\n",
    "from sklearn.metrics import confusion_matrix\n",
    "from sklearn.utils import resample\n",
    "from pickle import load\n",
    "\n",
    "# version check\n",
    "import sys\n",
    "print(\"python version\")\n",
    "print(sys.version)\n",
    "import sklearn\n",
    "print(\"sklearn version = \", sklearn.__version__)\n",
    "print(\"numpy version = \", np.__version__)\n",
    "print(\"pandas version =\", pd.__version__)"
   ]
  },
  {
   "cell_type": "code",
   "execution_count": 2,
   "metadata": {},
   "outputs": [],
   "source": [
    "# load UA5(60)model and scaler, sample data\n",
    "\n",
    "## xgb models\n",
    "model60 = joblib.load('ua60_model')\n",
    "\n",
    "## scaler\n",
    "scaler60 = joblib.load('scaler60.pkl')\n",
    "\n",
    "## sample data\n",
    "sample60_non = pd.read_csv('sample60_non.csv')\n",
    "sample60_pro = pd.read_csv('sample60_pro.csv')"
   ]
  },
  {
   "cell_type": "code",
   "execution_count": 3,
   "metadata": {},
   "outputs": [
    {
     "data": {
      "text/html": [
       "<div>\n",
       "<style scoped>\n",
       "    .dataframe tbody tr th:only-of-type {\n",
       "        vertical-align: middle;\n",
       "    }\n",
       "\n",
       "    .dataframe tbody tr th {\n",
       "        vertical-align: top;\n",
       "    }\n",
       "\n",
       "    .dataframe thead th {\n",
       "        text-align: right;\n",
       "    }\n",
       "</style>\n",
       "<table border=\"1\" class=\"dataframe\">\n",
       "  <thead>\n",
       "    <tr style=\"text-align: right;\">\n",
       "      <th></th>\n",
       "      <th>eGFR_ab</th>\n",
       "      <th>eGFR_ckd</th>\n",
       "      <th>male</th>\n",
       "      <th>age</th>\n",
       "      <th>he_uph</th>\n",
       "      <th>he_unitr</th>\n",
       "      <th>he_usg</th>\n",
       "      <th>he_upro</th>\n",
       "      <th>he_uglu</th>\n",
       "      <th>he_uket</th>\n",
       "      <th>he_ubil</th>\n",
       "      <th>he_ubld</th>\n",
       "      <th>he_uro</th>\n",
       "    </tr>\n",
       "  </thead>\n",
       "  <tbody>\n",
       "    <tr>\n",
       "      <th>0</th>\n",
       "      <td>0</td>\n",
       "      <td>90.49290</td>\n",
       "      <td>1</td>\n",
       "      <td>45</td>\n",
       "      <td>6.5</td>\n",
       "      <td>0</td>\n",
       "      <td>1.025</td>\n",
       "      <td>0</td>\n",
       "      <td>0</td>\n",
       "      <td>0</td>\n",
       "      <td>0</td>\n",
       "      <td>1</td>\n",
       "      <td>0</td>\n",
       "    </tr>\n",
       "    <tr>\n",
       "      <th>1</th>\n",
       "      <td>0</td>\n",
       "      <td>89.95331</td>\n",
       "      <td>0</td>\n",
       "      <td>44</td>\n",
       "      <td>7.5</td>\n",
       "      <td>0</td>\n",
       "      <td>1.010</td>\n",
       "      <td>0</td>\n",
       "      <td>0</td>\n",
       "      <td>0</td>\n",
       "      <td>0</td>\n",
       "      <td>3</td>\n",
       "      <td>0</td>\n",
       "    </tr>\n",
       "    <tr>\n",
       "      <th>2</th>\n",
       "      <td>0</td>\n",
       "      <td>100.43390</td>\n",
       "      <td>1</td>\n",
       "      <td>63</td>\n",
       "      <td>6.5</td>\n",
       "      <td>0</td>\n",
       "      <td>1.020</td>\n",
       "      <td>0</td>\n",
       "      <td>0</td>\n",
       "      <td>0</td>\n",
       "      <td>0</td>\n",
       "      <td>0</td>\n",
       "      <td>0</td>\n",
       "    </tr>\n",
       "    <tr>\n",
       "      <th>3</th>\n",
       "      <td>0</td>\n",
       "      <td>73.21807</td>\n",
       "      <td>1</td>\n",
       "      <td>30</td>\n",
       "      <td>6.5</td>\n",
       "      <td>0</td>\n",
       "      <td>1.025</td>\n",
       "      <td>1</td>\n",
       "      <td>0</td>\n",
       "      <td>0</td>\n",
       "      <td>0</td>\n",
       "      <td>0</td>\n",
       "      <td>0</td>\n",
       "    </tr>\n",
       "    <tr>\n",
       "      <th>4</th>\n",
       "      <td>0</td>\n",
       "      <td>107.20890</td>\n",
       "      <td>0</td>\n",
       "      <td>42</td>\n",
       "      <td>5.5</td>\n",
       "      <td>0</td>\n",
       "      <td>1.030</td>\n",
       "      <td>1</td>\n",
       "      <td>0</td>\n",
       "      <td>1</td>\n",
       "      <td>0</td>\n",
       "      <td>1</td>\n",
       "      <td>0</td>\n",
       "    </tr>\n",
       "  </tbody>\n",
       "</table>\n",
       "</div>"
      ],
      "text/plain": [
       "   eGFR_ab   eGFR_ckd  male  age  he_uph  he_unitr  he_usg  he_upro  he_uglu  \\\n",
       "0        0   90.49290     1   45     6.5         0   1.025        0        0   \n",
       "1        0   89.95331     0   44     7.5         0   1.010        0        0   \n",
       "2        0  100.43390     1   63     6.5         0   1.020        0        0   \n",
       "3        0   73.21807     1   30     6.5         0   1.025        1        0   \n",
       "4        0  107.20890     0   42     5.5         0   1.030        1        0   \n",
       "\n",
       "   he_uket  he_ubil  he_ubld  he_uro  \n",
       "0        0        0        1       0  \n",
       "1        0        0        3       0  \n",
       "2        0        0        0       0  \n",
       "3        0        0        0       0  \n",
       "4        1        0        1       0  "
      ]
     },
     "execution_count": 3,
     "metadata": {},
     "output_type": "execute_result"
    }
   ],
   "source": [
    "# sample data preview\n",
    "sample60_non.head()"
   ]
  },
  {
   "cell_type": "code",
   "execution_count": 4,
   "metadata": {},
   "outputs": [],
   "source": [
    "# sample cases from sample data\n",
    "sample_case0 = sample60_non.iloc[[2],:]\n",
    "sample_case1 = sample60_non.iloc[[4],:]\n",
    "sample_case2 = sample60_pro.iloc[[5],:]\n",
    "sample_case3 = sample60_pro.iloc[[6],:]\n",
    "sample_case4 = sample60_pro.iloc[[12],:]"
   ]
  },
  {
   "cell_type": "code",
   "execution_count": 5,
   "metadata": {},
   "outputs": [],
   "source": [
    "# custom def : standardization and prediction\n",
    "def model_prediction(\n",
    "    sample_case,\n",
    "    scaler,\n",
    "    model\n",
    "):\n",
    " \n",
    "    \"\"\"\n",
    "    UA5 type model\n",
    "    he_usg = Urine specific gravity\n",
    "    he_uph = Urine pH\n",
    "    he_ubld = Urine blood\n",
    "    he_uglu = Urine glucose\n",
    "    he_upro = Urine protein\n",
    "    \"\"\"\n",
    "    \n",
    "    # print UA5 and eGFR from input case\n",
    "    print(\"Urine specific gravity :\", sample_case['he_usg'].item())\n",
    "    print(\"Urine pH :\", sample_case['he_uph'].item())\n",
    "    print(\"Urine blood :\", sample_case['he_ubld'].item())\n",
    "    print(\"Urine glucose :\", sample_case['he_uglu'].item())\n",
    "    print(\"Urine protein :\", sample_case['he_upro'].item())\n",
    "    print(\"real eGFR :\", sample_case['eGFR_ckd'].item())\n",
    "    \n",
    "    # standardization columns\n",
    "    std_cols=['age','he_uph','he_usg']    \n",
    "    # feature extraction from input data UA \n",
    "    sample_case_features = sample_case.loc[:,['male', 'he_usg', 'he_uph', 'he_ubld', 'he_uglu', 'he_upro', 'age']]\n",
    "    sample_case_features[std_cols] = scaler.transform(sample_case_features[std_cols])\n",
    "    \n",
    "    # predict probability by model\n",
    "    prob = model.predict_proba(sample_case_features)[:,1]\n",
    "    \n",
    "    # applying different threshold according to proteinuria\n",
    "    # set threshold by proteinuria\n",
    "    threshold_nonproteinuria = 0.44\n",
    "    threshold_proteinuria = 0.77\n",
    "    \n",
    "    if sample_case_features['he_upro'].item()>1 :\n",
    "        pred = prob > threshold_nonproteinuria\n",
    "        if pred == True :\n",
    "            print(\"prediction : eGFR<60, abnormal\")\n",
    "        else:\n",
    "            print(\"prediction : eGFR>=60, normal\")\n",
    "    else:\n",
    "        pred = prob > threshold_proteinuria\n",
    "        if pred == True :\n",
    "            print(\"prediction : eGFR<60, abnormal\")\n",
    "        else:\n",
    "            print(\"prediction : eGFR>=60, normal\")\n",
    "            \n",
    "    return prob"
   ]
  },
  {
   "cell_type": "code",
   "execution_count": 6,
   "metadata": {},
   "outputs": [
    {
     "name": "stdout",
     "output_type": "stream",
     "text": [
      "Urine specific gravity : 1.02\n",
      "Urine pH : 6.5\n",
      "Urine blood : 0\n",
      "Urine glucose : 0\n",
      "Urine protein : 0\n",
      "real eGFR : 100.4339\n",
      "prediction : eGFR>=60, normal\n"
     ]
    },
    {
     "data": {
      "text/plain": [
       "array([0.43377733], dtype=float32)"
      ]
     },
     "execution_count": 6,
     "metadata": {},
     "output_type": "execute_result"
    }
   ],
   "source": [
    "# sample0 test\n",
    "model_prediction(sample_case0, scaler60, model60)"
   ]
  },
  {
   "cell_type": "code",
   "execution_count": 7,
   "metadata": {},
   "outputs": [
    {
     "name": "stdout",
     "output_type": "stream",
     "text": [
      "Urine specific gravity : 1.03\n",
      "Urine pH : 5.5\n",
      "Urine blood : 1\n",
      "Urine glucose : 0\n",
      "Urine protein : 1\n",
      "real eGFR : 107.2089\n",
      "prediction : eGFR>=60, normal\n"
     ]
    },
    {
     "data": {
      "text/plain": [
       "array([0.10492791], dtype=float32)"
      ]
     },
     "execution_count": 7,
     "metadata": {},
     "output_type": "execute_result"
    }
   ],
   "source": [
    "# sample1 test\n",
    "model_prediction(sample_case1, scaler60, model60)"
   ]
  },
  {
   "cell_type": "code",
   "execution_count": 8,
   "metadata": {},
   "outputs": [
    {
     "name": "stdout",
     "output_type": "stream",
     "text": [
      "Urine specific gravity : 1.03\n",
      "Urine pH : 6.5\n",
      "Urine blood : 0\n",
      "Urine glucose : 0\n",
      "Urine protein : 2\n",
      "real eGFR : 124.442\n",
      "prediction : eGFR>=60, normal\n"
     ]
    },
    {
     "data": {
      "text/plain": [
       "array([0.07031757], dtype=float32)"
      ]
     },
     "execution_count": 8,
     "metadata": {},
     "output_type": "execute_result"
    }
   ],
   "source": [
    "# sample2 test\n",
    "model_prediction(sample_case2, scaler60, model60)"
   ]
  },
  {
   "cell_type": "code",
   "execution_count": 9,
   "metadata": {},
   "outputs": [
    {
     "name": "stdout",
     "output_type": "stream",
     "text": [
      "Urine specific gravity : 1.01\n",
      "Urine pH : 6.0\n",
      "Urine blood : 3\n",
      "Urine glucose : 3\n",
      "Urine protein : 2\n",
      "real eGFR : 7.545275\n",
      "prediction : eGFR<60, abnormal\n"
     ]
    },
    {
     "data": {
      "text/plain": [
       "array([0.95431], dtype=float32)"
      ]
     },
     "execution_count": 9,
     "metadata": {},
     "output_type": "execute_result"
    }
   ],
   "source": [
    "# sample3 test\n",
    "model_prediction(sample_case3, scaler60, model60)"
   ]
  },
  {
   "cell_type": "code",
   "execution_count": 10,
   "metadata": {},
   "outputs": [
    {
     "name": "stdout",
     "output_type": "stream",
     "text": [
      "Urine specific gravity : 1.01\n",
      "Urine pH : 6.0\n",
      "Urine blood : 2\n",
      "Urine glucose : 2\n",
      "Urine protein : 3\n",
      "real eGFR : 34.98301\n",
      "prediction : eGFR<60, abnormal\n"
     ]
    },
    {
     "data": {
      "text/plain": [
       "array([0.94983214], dtype=float32)"
      ]
     },
     "execution_count": 10,
     "metadata": {},
     "output_type": "execute_result"
    }
   ],
   "source": [
    "# sample4 test\n",
    "model_prediction(sample_case4, scaler60, model60)"
   ]
  }
 ],
 "metadata": {
  "kernelspec": {
   "display_name": "xgb_tpot",
   "language": "python",
   "name": "xgb_tpot"
  },
  "language_info": {
   "codemirror_mode": {
    "name": "ipython",
    "version": 3
   },
   "file_extension": ".py",
   "mimetype": "text/x-python",
   "name": "python",
   "nbconvert_exporter": "python",
   "pygments_lexer": "ipython3",
   "version": "3.8.5"
  }
 },
 "nbformat": 4,
 "nbformat_minor": 4
}
